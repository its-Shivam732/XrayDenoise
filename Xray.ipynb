{
  "cells": [
    {
      "cell_type": "markdown",
      "metadata": {
        "id": "view-in-github",
        "colab_type": "text"
      },
      "source": [
        "<a href=\"https://colab.research.google.com/github/its-Shivam732/XrayDenoise/blob/main/Xray.ipynb\" target=\"_parent\"><img src=\"https://colab.research.google.com/assets/colab-badge.svg\" alt=\"Open In Colab\"/></a>"
      ]
    },
    {
      "cell_type": "code",
      "source": [
        "# Install dependencies\n",
        "!pip install torch torchvision diffusers accelerate scikit-image pytorch-fid pillow -q\n",
        "\n",
        "# Import libraries\n",
        "import os\n",
        "import torch\n",
        "import torchvision.transforms as transforms\n",
        "import numpy as np\n",
        "from torch.utils.data import Dataset, DataLoader\n",
        "import matplotlib.pyplot as plt\n",
        "from skimage.util import random_noise\n",
        "from google.colab import drive\n",
        "import glob\n",
        "from PIL import Image\n",
        "import shutil\n",
        "import zipfile\n",
        "\n",
        "# Mount Google Drive for persistent storage\n",
        "drive.mount('/content/drive', force_remount=True)\n",
        "output_dir = '/content/drive/MyDrive/xray_denoising_dataset'\n",
        "os.makedirs(output_dir, exist_ok=True)\n",
        "\n",
        "# ============================================\n",
        "# DOWNLOAD DATASET USING KAGGLE API\n",
        "# ============================================\n",
        "\n",
        "# Setup Kaggle API\n",
        "os.makedirs('/root/.kaggle', exist_ok=True)\n",
        "\n",
        "# Upload your kaggle.json file\n",
        "print(\"Please upload your kaggle.json file:\")\n",
        "print(\"1. Go to https://www.kaggle.com/settings/account\")\n",
        "print(\"2. Scroll to 'API' section and click 'Create New Token'\")\n",
        "print(\"3. Upload the downloaded kaggle.json file when prompted below\")\n",
        "\n",
        "from google.colab import files\n",
        "uploaded = files.upload()  # This will prompt you to upload kaggle.json\n",
        "\n",
        "# Move kaggle.json to the correct location\n",
        "!mkdir -p ~/.kaggle\n",
        "!cp kaggle.json ~/.kaggle/\n",
        "!chmod 600 ~/.kaggle/kaggle.json\n",
        "\n",
        "# Download the dataset\n",
        "dataset_root = '/content/covid_xray/COVID-19_Radiography_Dataset'\n",
        "\n",
        "if not os.path.exists(dataset_root):\n",
        "    print(\"\\nDownloading COVID-19 Radiography Dataset from Kaggle...\")\n",
        "\n",
        "    # Download dataset\n",
        "    !kaggle datasets download -d tawsifurrahman/covid19-radiography-database -p /content/covid_xray\n",
        "\n",
        "    # Extract the zip file\n",
        "    print(\"\\nExtracting dataset...\")\n",
        "    zip_path = '/content/covid_xray/covid19-radiography-database.zip'\n",
        "\n",
        "    with zipfile.ZipFile(zip_path, 'r') as zip_ref:\n",
        "        zip_ref.extractall('/content/covid_xray')\n",
        "\n",
        "    # Remove zip file to save space\n",
        "    os.remove(zip_path)\n",
        "\n",
        "    print(\"✓ Dataset downloaded and extracted successfully!\")\n",
        "\n",
        "    # Verify the structure\n",
        "    if os.path.exists(dataset_root):\n",
        "        print(f\"✓ Dataset verified at {dataset_root}\")\n",
        "    else:\n",
        "        # Sometimes the extracted folder has a different name\n",
        "        # List what's actually in the directory\n",
        "        print(\"\\nContents of /content/covid_xray:\")\n",
        "        !ls -la /content/covid_xray\n",
        "\n",
        "        # Try to find the actual dataset folder\n",
        "        for item in os.listdir('/content/covid_xray'):\n",
        "            item_path = os.path.join('/content/covid_xray', item)\n",
        "            if os.path.isdir(item_path):\n",
        "                print(f\"\\nFound directory: {item_path}\")\n",
        "                # Update dataset_root to the actual path\n",
        "                dataset_root = item_path\n",
        "                break\n",
        "else:\n",
        "    print(f\"✓ Dataset already exists at {dataset_root}\")\n",
        "\n",
        "# Verify dataset directory\n",
        "if not os.path.exists(dataset_root):\n",
        "    raise FileNotFoundError(f\"Dataset root not found at {dataset_root}\")\n",
        "\n",
        "# Get all image paths from subdirectories\n",
        "def collect_image_paths(root_dir):\n",
        "    \"\"\"Collect all image paths from the dataset structure\"\"\"\n",
        "    image_paths = []\n",
        "    categories = ['Normal', 'COVID', 'Lung_Opacity', 'Viral Pneumonia']\n",
        "\n",
        "    for category in categories:\n",
        "        images_dir = os.path.join(root_dir, category, 'images')\n",
        "        if os.path.exists(images_dir):\n",
        "            # Get all PNG and JPEG files\n",
        "            png_files = glob.glob(os.path.join(images_dir, '*.png'))\n",
        "            jpg_files = glob.glob(os.path.join(images_dir, '*.jpg'))\n",
        "            jpeg_files = glob.glob(os.path.join(images_dir, '*.jpeg'))\n",
        "\n",
        "            category_images = png_files + jpg_files + jpeg_files\n",
        "            image_paths.extend(category_images)\n",
        "            print(f\"Found {len(category_images)} images in {category}\")\n",
        "\n",
        "    return image_paths\n",
        "\n",
        "# Continue with rest of your code..."
      ],
      "metadata": {
        "id": "KVILB3rS_9B9",
        "outputId": "3a63107d-c19b-4c40-8c0a-63443fdf9999",
        "colab": {
          "base_uri": "https://localhost:8080/",
          "height": 440
        }
      },
      "execution_count": 1,
      "outputs": [
        {
          "output_type": "stream",
          "name": "stdout",
          "text": [
            "Mounted at /content/drive\n",
            "Please upload your kaggle.json file:\n",
            "1. Go to https://www.kaggle.com/settings/account\n",
            "2. Scroll to 'API' section and click 'Create New Token'\n",
            "3. Upload the downloaded kaggle.json file when prompted below\n"
          ]
        },
        {
          "output_type": "display_data",
          "data": {
            "text/plain": [
              "<IPython.core.display.HTML object>"
            ],
            "text/html": [
              "\n",
              "     <input type=\"file\" id=\"files-7470669a-e5f9-4fd5-bd8d-82797df9b3e4\" name=\"files[]\" multiple disabled\n",
              "        style=\"border:none\" />\n",
              "     <output id=\"result-7470669a-e5f9-4fd5-bd8d-82797df9b3e4\">\n",
              "      Upload widget is only available when the cell has been executed in the\n",
              "      current browser session. Please rerun this cell to enable.\n",
              "      </output>\n",
              "      <script>// Copyright 2017 Google LLC\n",
              "//\n",
              "// Licensed under the Apache License, Version 2.0 (the \"License\");\n",
              "// you may not use this file except in compliance with the License.\n",
              "// You may obtain a copy of the License at\n",
              "//\n",
              "//      http://www.apache.org/licenses/LICENSE-2.0\n",
              "//\n",
              "// Unless required by applicable law or agreed to in writing, software\n",
              "// distributed under the License is distributed on an \"AS IS\" BASIS,\n",
              "// WITHOUT WARRANTIES OR CONDITIONS OF ANY KIND, either express or implied.\n",
              "// See the License for the specific language governing permissions and\n",
              "// limitations under the License.\n",
              "\n",
              "/**\n",
              " * @fileoverview Helpers for google.colab Python module.\n",
              " */\n",
              "(function(scope) {\n",
              "function span(text, styleAttributes = {}) {\n",
              "  const element = document.createElement('span');\n",
              "  element.textContent = text;\n",
              "  for (const key of Object.keys(styleAttributes)) {\n",
              "    element.style[key] = styleAttributes[key];\n",
              "  }\n",
              "  return element;\n",
              "}\n",
              "\n",
              "// Max number of bytes which will be uploaded at a time.\n",
              "const MAX_PAYLOAD_SIZE = 100 * 1024;\n",
              "\n",
              "function _uploadFiles(inputId, outputId) {\n",
              "  const steps = uploadFilesStep(inputId, outputId);\n",
              "  const outputElement = document.getElementById(outputId);\n",
              "  // Cache steps on the outputElement to make it available for the next call\n",
              "  // to uploadFilesContinue from Python.\n",
              "  outputElement.steps = steps;\n",
              "\n",
              "  return _uploadFilesContinue(outputId);\n",
              "}\n",
              "\n",
              "// This is roughly an async generator (not supported in the browser yet),\n",
              "// where there are multiple asynchronous steps and the Python side is going\n",
              "// to poll for completion of each step.\n",
              "// This uses a Promise to block the python side on completion of each step,\n",
              "// then passes the result of the previous step as the input to the next step.\n",
              "function _uploadFilesContinue(outputId) {\n",
              "  const outputElement = document.getElementById(outputId);\n",
              "  const steps = outputElement.steps;\n",
              "\n",
              "  const next = steps.next(outputElement.lastPromiseValue);\n",
              "  return Promise.resolve(next.value.promise).then((value) => {\n",
              "    // Cache the last promise value to make it available to the next\n",
              "    // step of the generator.\n",
              "    outputElement.lastPromiseValue = value;\n",
              "    return next.value.response;\n",
              "  });\n",
              "}\n",
              "\n",
              "/**\n",
              " * Generator function which is called between each async step of the upload\n",
              " * process.\n",
              " * @param {string} inputId Element ID of the input file picker element.\n",
              " * @param {string} outputId Element ID of the output display.\n",
              " * @return {!Iterable<!Object>} Iterable of next steps.\n",
              " */\n",
              "function* uploadFilesStep(inputId, outputId) {\n",
              "  const inputElement = document.getElementById(inputId);\n",
              "  inputElement.disabled = false;\n",
              "\n",
              "  const outputElement = document.getElementById(outputId);\n",
              "  outputElement.innerHTML = '';\n",
              "\n",
              "  const pickedPromise = new Promise((resolve) => {\n",
              "    inputElement.addEventListener('change', (e) => {\n",
              "      resolve(e.target.files);\n",
              "    });\n",
              "  });\n",
              "\n",
              "  const cancel = document.createElement('button');\n",
              "  inputElement.parentElement.appendChild(cancel);\n",
              "  cancel.textContent = 'Cancel upload';\n",
              "  const cancelPromise = new Promise((resolve) => {\n",
              "    cancel.onclick = () => {\n",
              "      resolve(null);\n",
              "    };\n",
              "  });\n",
              "\n",
              "  // Wait for the user to pick the files.\n",
              "  const files = yield {\n",
              "    promise: Promise.race([pickedPromise, cancelPromise]),\n",
              "    response: {\n",
              "      action: 'starting',\n",
              "    }\n",
              "  };\n",
              "\n",
              "  cancel.remove();\n",
              "\n",
              "  // Disable the input element since further picks are not allowed.\n",
              "  inputElement.disabled = true;\n",
              "\n",
              "  if (!files) {\n",
              "    return {\n",
              "      response: {\n",
              "        action: 'complete',\n",
              "      }\n",
              "    };\n",
              "  }\n",
              "\n",
              "  for (const file of files) {\n",
              "    const li = document.createElement('li');\n",
              "    li.append(span(file.name, {fontWeight: 'bold'}));\n",
              "    li.append(span(\n",
              "        `(${file.type || 'n/a'}) - ${file.size} bytes, ` +\n",
              "        `last modified: ${\n",
              "            file.lastModifiedDate ? file.lastModifiedDate.toLocaleDateString() :\n",
              "                                    'n/a'} - `));\n",
              "    const percent = span('0% done');\n",
              "    li.appendChild(percent);\n",
              "\n",
              "    outputElement.appendChild(li);\n",
              "\n",
              "    const fileDataPromise = new Promise((resolve) => {\n",
              "      const reader = new FileReader();\n",
              "      reader.onload = (e) => {\n",
              "        resolve(e.target.result);\n",
              "      };\n",
              "      reader.readAsArrayBuffer(file);\n",
              "    });\n",
              "    // Wait for the data to be ready.\n",
              "    let fileData = yield {\n",
              "      promise: fileDataPromise,\n",
              "      response: {\n",
              "        action: 'continue',\n",
              "      }\n",
              "    };\n",
              "\n",
              "    // Use a chunked sending to avoid message size limits. See b/62115660.\n",
              "    let position = 0;\n",
              "    do {\n",
              "      const length = Math.min(fileData.byteLength - position, MAX_PAYLOAD_SIZE);\n",
              "      const chunk = new Uint8Array(fileData, position, length);\n",
              "      position += length;\n",
              "\n",
              "      const base64 = btoa(String.fromCharCode.apply(null, chunk));\n",
              "      yield {\n",
              "        response: {\n",
              "          action: 'append',\n",
              "          file: file.name,\n",
              "          data: base64,\n",
              "        },\n",
              "      };\n",
              "\n",
              "      let percentDone = fileData.byteLength === 0 ?\n",
              "          100 :\n",
              "          Math.round((position / fileData.byteLength) * 100);\n",
              "      percent.textContent = `${percentDone}% done`;\n",
              "\n",
              "    } while (position < fileData.byteLength);\n",
              "  }\n",
              "\n",
              "  // All done.\n",
              "  yield {\n",
              "    response: {\n",
              "      action: 'complete',\n",
              "    }\n",
              "  };\n",
              "}\n",
              "\n",
              "scope.google = scope.google || {};\n",
              "scope.google.colab = scope.google.colab || {};\n",
              "scope.google.colab._files = {\n",
              "  _uploadFiles,\n",
              "  _uploadFilesContinue,\n",
              "};\n",
              "})(self);\n",
              "</script> "
            ]
          },
          "metadata": {}
        },
        {
          "output_type": "stream",
          "name": "stdout",
          "text": [
            "Saving kaggle.json to kaggle.json\n",
            "\n",
            "Downloading COVID-19 Radiography Dataset from Kaggle...\n",
            "Dataset URL: https://www.kaggle.com/datasets/tawsifurrahman/covid19-radiography-database\n",
            "License(s): copyright-authors\n",
            "Downloading covid19-radiography-database.zip to /content/covid_xray\n",
            " 98% 761M/778M [00:08<00:00, 238MB/s]\n",
            "100% 778M/778M [00:08<00:00, 97.3MB/s]\n",
            "\n",
            "Extracting dataset...\n",
            "✓ Dataset downloaded and extracted successfully!\n",
            "✓ Dataset verified at /content/covid_xray/COVID-19_Radiography_Dataset\n"
          ]
        }
      ]
    },
    {
      "cell_type": "code",
      "source": [
        "# Install dependencies\n",
        "!pip install torch torchvision diffusers accelerate scikit-image pytorch-fid pillow\n",
        "\n",
        "# Import libraries\n",
        "import os\n",
        "import torch\n",
        "import torchvision.transforms as transforms\n",
        "import numpy as np\n",
        "from torch.utils.data import Dataset, DataLoader\n",
        "import matplotlib.pyplot as plt\n",
        "from skimage.util import random_noise\n",
        "from google.colab import drive\n",
        "import glob\n",
        "from PIL import Image\n",
        "\n",
        "# Mount Google Drive for persistent storage\n",
        "drive.mount('/content/drive', force_remount=True)\n",
        "output_dir = '/content/drive/MyDrive/xray_denoising_dataset'\n",
        "os.makedirs(output_dir, exist_ok=True)\n",
        "\n",
        "# Verify dataset directory\n",
        "dataset_root = '/content/covid_xray/COVID-19_Radiography_Dataset'\n",
        "if not os.path.exists(dataset_root):\n",
        "    raise FileNotFoundError(f\"Dataset root not found at {dataset_root}\")\n",
        "\n",
        "# Get all image paths from subdirectories\n",
        "def collect_image_paths(root_dir):\n",
        "    \"\"\"Collect all image paths from the dataset structure\"\"\"\n",
        "    image_paths = []\n",
        "    categories = ['Normal', 'COVID', 'Lung_Opacity', 'Viral_Pneumonia']\n",
        "\n",
        "    for category in categories:\n",
        "        images_dir = os.path.join(root_dir, category, 'images')\n",
        "        if os.path.exists(images_dir):\n",
        "            # Get all PNG and JPEG files\n",
        "            png_files = glob.glob(os.path.join(images_dir, '*.png'))\n",
        "            jpg_files = glob.glob(os.path.join(images_dir, '*.jpg'))\n",
        "            jpeg_files = glob.glob(os.path.join(images_dir, '*.jpeg'))\n",
        "\n",
        "            category_images = png_files + jpg_files + jpeg_files\n",
        "            image_paths.extend(category_images)\n",
        "            print(f\"Found {len(category_images)} images in {category}\")\n",
        "\n",
        "    return image_paths\n",
        "\n",
        "# Collect all image paths\n",
        "all_image_paths = collect_image_paths(dataset_root)\n",
        "print(f\"\\nTotal images found: {len(all_image_paths)}\")\n",
        "\n",
        "if len(all_image_paths) == 0:\n",
        "    raise FileNotFoundError(\"No images found! Check the directory structure.\")\n",
        "\n",
        "# Limit to 2000 images for faster processing\n",
        "all_image_paths = all_image_paths[:2000]\n",
        "print(f\"Using {len(all_image_paths)} images for this run\")\n",
        "\n",
        "# Custom Dataset class\n",
        "class XRayDataset(Dataset):\n",
        "    def __init__(self, image_paths, transform=None, noise_type='gaussian', noise_level=0.1):\n",
        "        self.image_paths = image_paths\n",
        "        self.transform = transform\n",
        "        self.noise_type = noise_type\n",
        "        self.noise_level = noise_level\n",
        "\n",
        "    def __len__(self):\n",
        "        return len(self.image_paths)\n",
        "\n",
        "    def __getitem__(self, idx):\n",
        "        try:\n",
        "            # Load image\n",
        "            image_path = self.image_paths[idx]\n",
        "            image = Image.open(image_path).convert('L')  # Grayscale\n",
        "\n",
        "            # Resize to 256x256\n",
        "            image = image.resize((256, 256), Image.Resampling.LANCZOS)\n",
        "\n",
        "            # Convert to numpy array and normalize to [0,1]\n",
        "            image = np.array(image, dtype=np.float32) / 255.0\n",
        "\n",
        "            # Add noise\n",
        "            if self.noise_type == 'gaussian':\n",
        "                noisy = random_noise(image, mode='gaussian', var=self.noise_level**2, clip=True)\n",
        "            elif self.noise_type == 'poisson':\n",
        "                noisy = random_noise(image, mode='poisson', clip=True)\n",
        "            else:\n",
        "                noisy = image.copy()\n",
        "\n",
        "            # Convert to tensors [1, H, W]\n",
        "            image_tensor = torch.from_numpy(image).unsqueeze(0).float()\n",
        "            noisy_tensor = torch.from_numpy(noisy.astype(np.float32)).unsqueeze(0).float()\n",
        "\n",
        "            # Apply normalization to [-1, 1] if transform provided\n",
        "            if self.transform:\n",
        "                image_tensor = self.transform(image_tensor)\n",
        "                noisy_tensor = self.transform(noisy_tensor)\n",
        "\n",
        "            return {'clean': image_tensor, 'noisy': noisy_tensor}\n",
        "\n",
        "        except Exception as e:\n",
        "            print(f\"Error processing image {idx} ({self.image_paths[idx]}): {e}\")\n",
        "            # Return a blank image pair as fallback\n",
        "            blank = torch.zeros(1, 256, 256)\n",
        "            return {'clean': blank, 'noisy': blank}\n",
        "\n",
        "# Preprocessing transform (normalization only)\n",
        "transform = transforms.Normalize(mean=[0.5], std=[0.5])  # Normalize to [-1, 1]\n",
        "\n",
        "# Split dataset\n",
        "train_size = 1500\n",
        "val_size = min(500, len(all_image_paths) - train_size)\n",
        "\n",
        "train_paths = all_image_paths[:train_size]\n",
        "val_paths = all_image_paths[train_size:train_size + val_size]\n",
        "\n",
        "print(f\"\\nCreating datasets...\")\n",
        "print(f\"Train: {len(train_paths)} images\")\n",
        "print(f\"Val: {len(val_paths)} images\")\n",
        "\n",
        "# Create datasets\n",
        "train_dataset = XRayDataset(train_paths, transform=transform, noise_type='gaussian', noise_level=0.1)\n",
        "val_dataset = XRayDataset(val_paths, transform=transform, noise_type='gaussian', noise_level=0.1)\n",
        "\n",
        "# Create DataLoaders\n",
        "train_loader = DataLoader(train_dataset, batch_size=16, shuffle=True, num_workers=2, pin_memory=True)\n",
        "val_loader = DataLoader(val_dataset, batch_size=16, shuffle=False, num_workers=2, pin_memory=True)\n",
        "\n",
        "print(f\"\\nDataLoaders created successfully!\")\n",
        "\n",
        "# Save sample images\n",
        "def save_samples(loader, num_samples=5, output_dir=output_dir):\n",
        "    samples_dir = os.path.join(output_dir, 'samples')\n",
        "    os.makedirs(samples_dir, exist_ok=True)\n",
        "\n",
        "    try:\n",
        "        batch = next(iter(loader))\n",
        "        num_to_save = min(num_samples, len(batch['clean']))\n",
        "\n",
        "        for i in range(num_to_save):\n",
        "            # Denormalize from [-1, 1] to [0, 1]\n",
        "            clean = (batch['clean'][i].squeeze().numpy() * 0.5 + 0.5).clip(0, 1)\n",
        "            noisy = (batch['noisy'][i].squeeze().numpy() * 0.5 + 0.5).clip(0, 1)\n",
        "\n",
        "            # Create comparison figure\n",
        "            plt.figure(figsize=(10, 5))\n",
        "\n",
        "            plt.subplot(1, 2, 1)\n",
        "            plt.imshow(clean, cmap='gray', vmin=0, vmax=1)\n",
        "            plt.title('Clean X-Ray', fontsize=14)\n",
        "            plt.axis('off')\n",
        "\n",
        "            plt.subplot(1, 2, 2)\n",
        "            plt.imshow(noisy, cmap='gray', vmin=0, vmax=1)\n",
        "            plt.title(f'Noisy (Gaussian σ=0.1)', fontsize=14)\n",
        "            plt.axis('off')\n",
        "\n",
        "            plt.tight_layout()\n",
        "            plt.savefig(os.path.join(samples_dir, f'sample_{i}.png'), dpi=150, bbox_inches='tight')\n",
        "            plt.close()\n",
        "\n",
        "        print(f\"Saved {num_to_save} sample pairs to {samples_dir}\")\n",
        "\n",
        "    except Exception as e:\n",
        "        print(f\"Error saving samples: {e}\")\n",
        "\n",
        "# Save samples from training set\n",
        "print(\"\\nGenerating sample images...\")\n",
        "save_samples(train_loader, num_samples=8)\n",
        "\n",
        "# Save metadata\n",
        "metadata_path = os.path.join(output_dir, 'metadata.txt')\n",
        "with open(metadata_path, 'w') as f:\n",
        "    f.write('X-Ray Denoising Dataset\\n')\n",
        "    f.write('='*50 + '\\n\\n')\n",
        "    f.write(f'Source: COVID-19 Radiography Database\\n')\n",
        "    f.write(f'Dataset root: {dataset_root}\\n\\n')\n",
        "    f.write(f'Training images: {len(train_paths)}\\n')\n",
        "    f.write(f'Validation images: {len(val_paths)}\\n')\n",
        "    f.write(f'Total images: {len(all_image_paths)}\\n\\n')\n",
        "    f.write(f'Image specifications:\\n')\n",
        "    f.write(f'  - Size: 256x256 pixels\\n')\n",
        "    f.write(f'  - Format: Grayscale\\n')\n",
        "    f.write(f'  - Normalization: [-1, 1]\\n\\n')\n",
        "    f.write(f'Noise configuration:\\n')\n",
        "    f.write(f'  - Type: Gaussian\\n')\n",
        "    f.write(f'  - Standard deviation (σ): 0.1\\n')\n",
        "    f.write(f'  - Variance: 0.01\\n\\n')\n",
        "    f.write(f'DataLoader settings:\\n')\n",
        "    f.write(f'  - Batch size: 16\\n')\n",
        "    f.write(f'  - Num workers: 2\\n')\n",
        "    f.write(f'  - Pin memory: True\\n')\n",
        "\n",
        "print(f\"\\nMetadata saved to {metadata_path}\")\n",
        "\n",
        "# Test loading a batch\n",
        "print(\"\\nTesting data loading...\")\n",
        "try:\n",
        "    test_batch = next(iter(train_loader))\n",
        "    print(f\"✓ Successfully loaded batch!\")\n",
        "    print(f\"  - Clean images shape: {test_batch['clean'].shape}\")\n",
        "    print(f\"  - Noisy images shape: {test_batch['noisy'].shape}\")\n",
        "    print(f\"  - Clean images range: [{test_batch['clean'].min():.3f}, {test_batch['clean'].max():.3f}]\")\n",
        "    print(f\"  - Noisy images range: [{test_batch['noisy'].min():.3f}, {test_batch['noisy'].max():.3f}]\")\n",
        "except Exception as e:\n",
        "    print(f\"✗ Error loading batch: {e}\")\n",
        "\n",
        "# Initialize PyTorch device\n",
        "device = torch.device('cuda' if torch.cuda.is_available() else 'cpu')\n",
        "print(f\"\\n{'='*50}\")\n",
        "print(f\"Setup complete!\")\n",
        "print(f\"Device: {device}\")\n",
        "print(f\"Output directory: {output_dir}\")\n",
        "print(f\"{'='*50}\\n\")\n",
        "\n",
        "# Print summary\n",
        "print(\"Dataset is ready for training!\")\n",
        "print(f\"Access training data with: train_loader\")\n",
        "print(f\"Access validation data with: val_loader\")\n",
        "print(f\"Check samples at: {os.path.join(output_dir, 'samples')}\")"
      ],
      "metadata": {
        "id": "6rzG2OQSAj9O",
        "outputId": "f702aaee-11ea-4db0-b41a-b66eee24a849",
        "colab": {
          "base_uri": "https://localhost:8080/"
        }
      },
      "execution_count": 2,
      "outputs": [
        {
          "output_type": "stream",
          "name": "stdout",
          "text": [
            "Requirement already satisfied: torch in /usr/local/lib/python3.12/dist-packages (2.8.0+cu126)\n",
            "Requirement already satisfied: torchvision in /usr/local/lib/python3.12/dist-packages (0.23.0+cu126)\n",
            "Requirement already satisfied: diffusers in /usr/local/lib/python3.12/dist-packages (0.35.2)\n",
            "Requirement already satisfied: accelerate in /usr/local/lib/python3.12/dist-packages (1.11.0)\n",
            "Requirement already satisfied: scikit-image in /usr/local/lib/python3.12/dist-packages (0.25.2)\n",
            "Requirement already satisfied: pytorch-fid in /usr/local/lib/python3.12/dist-packages (0.3.0)\n",
            "Requirement already satisfied: pillow in /usr/local/lib/python3.12/dist-packages (11.3.0)\n",
            "Requirement already satisfied: filelock in /usr/local/lib/python3.12/dist-packages (from torch) (3.20.0)\n",
            "Requirement already satisfied: typing-extensions>=4.10.0 in /usr/local/lib/python3.12/dist-packages (from torch) (4.15.0)\n",
            "Requirement already satisfied: setuptools in /usr/local/lib/python3.12/dist-packages (from torch) (75.2.0)\n",
            "Requirement already satisfied: sympy>=1.13.3 in /usr/local/lib/python3.12/dist-packages (from torch) (1.13.3)\n",
            "Requirement already satisfied: networkx in /usr/local/lib/python3.12/dist-packages (from torch) (3.5)\n",
            "Requirement already satisfied: jinja2 in /usr/local/lib/python3.12/dist-packages (from torch) (3.1.6)\n",
            "Requirement already satisfied: fsspec in /usr/local/lib/python3.12/dist-packages (from torch) (2025.3.0)\n",
            "Requirement already satisfied: nvidia-cuda-nvrtc-cu12==12.6.77 in /usr/local/lib/python3.12/dist-packages (from torch) (12.6.77)\n",
            "Requirement already satisfied: nvidia-cuda-runtime-cu12==12.6.77 in /usr/local/lib/python3.12/dist-packages (from torch) (12.6.77)\n",
            "Requirement already satisfied: nvidia-cuda-cupti-cu12==12.6.80 in /usr/local/lib/python3.12/dist-packages (from torch) (12.6.80)\n",
            "Requirement already satisfied: nvidia-cudnn-cu12==9.10.2.21 in /usr/local/lib/python3.12/dist-packages (from torch) (9.10.2.21)\n",
            "Requirement already satisfied: nvidia-cublas-cu12==12.6.4.1 in /usr/local/lib/python3.12/dist-packages (from torch) (12.6.4.1)\n",
            "Requirement already satisfied: nvidia-cufft-cu12==11.3.0.4 in /usr/local/lib/python3.12/dist-packages (from torch) (11.3.0.4)\n",
            "Requirement already satisfied: nvidia-curand-cu12==10.3.7.77 in /usr/local/lib/python3.12/dist-packages (from torch) (10.3.7.77)\n",
            "Requirement already satisfied: nvidia-cusolver-cu12==11.7.1.2 in /usr/local/lib/python3.12/dist-packages (from torch) (11.7.1.2)\n",
            "Requirement already satisfied: nvidia-cusparse-cu12==12.5.4.2 in /usr/local/lib/python3.12/dist-packages (from torch) (12.5.4.2)\n",
            "Requirement already satisfied: nvidia-cusparselt-cu12==0.7.1 in /usr/local/lib/python3.12/dist-packages (from torch) (0.7.1)\n",
            "Requirement already satisfied: nvidia-nccl-cu12==2.27.3 in /usr/local/lib/python3.12/dist-packages (from torch) (2.27.3)\n",
            "Requirement already satisfied: nvidia-nvtx-cu12==12.6.77 in /usr/local/lib/python3.12/dist-packages (from torch) (12.6.77)\n",
            "Requirement already satisfied: nvidia-nvjitlink-cu12==12.6.85 in /usr/local/lib/python3.12/dist-packages (from torch) (12.6.85)\n",
            "Requirement already satisfied: nvidia-cufile-cu12==1.11.1.6 in /usr/local/lib/python3.12/dist-packages (from torch) (1.11.1.6)\n",
            "Requirement already satisfied: triton==3.4.0 in /usr/local/lib/python3.12/dist-packages (from torch) (3.4.0)\n",
            "Requirement already satisfied: numpy in /usr/local/lib/python3.12/dist-packages (from torchvision) (2.0.2)\n",
            "Requirement already satisfied: importlib_metadata in /usr/local/lib/python3.12/dist-packages (from diffusers) (8.7.0)\n",
            "Requirement already satisfied: huggingface-hub>=0.34.0 in /usr/local/lib/python3.12/dist-packages (from diffusers) (0.36.0)\n",
            "Requirement already satisfied: regex!=2019.12.17 in /usr/local/lib/python3.12/dist-packages (from diffusers) (2024.11.6)\n",
            "Requirement already satisfied: requests in /usr/local/lib/python3.12/dist-packages (from diffusers) (2.32.4)\n",
            "Requirement already satisfied: safetensors>=0.3.1 in /usr/local/lib/python3.12/dist-packages (from diffusers) (0.6.2)\n",
            "Requirement already satisfied: packaging>=20.0 in /usr/local/lib/python3.12/dist-packages (from accelerate) (25.0)\n",
            "Requirement already satisfied: psutil in /usr/local/lib/python3.12/dist-packages (from accelerate) (5.9.5)\n",
            "Requirement already satisfied: pyyaml in /usr/local/lib/python3.12/dist-packages (from accelerate) (6.0.3)\n",
            "Requirement already satisfied: scipy>=1.11.4 in /usr/local/lib/python3.12/dist-packages (from scikit-image) (1.16.2)\n",
            "Requirement already satisfied: imageio!=2.35.0,>=2.33 in /usr/local/lib/python3.12/dist-packages (from scikit-image) (2.37.0)\n",
            "Requirement already satisfied: tifffile>=2022.8.12 in /usr/local/lib/python3.12/dist-packages (from scikit-image) (2025.10.16)\n",
            "Requirement already satisfied: lazy-loader>=0.4 in /usr/local/lib/python3.12/dist-packages (from scikit-image) (0.4)\n",
            "Requirement already satisfied: tqdm>=4.42.1 in /usr/local/lib/python3.12/dist-packages (from huggingface-hub>=0.34.0->diffusers) (4.67.1)\n",
            "Requirement already satisfied: hf-xet<2.0.0,>=1.1.3 in /usr/local/lib/python3.12/dist-packages (from huggingface-hub>=0.34.0->diffusers) (1.2.0)\n",
            "Requirement already satisfied: mpmath<1.4,>=1.1.0 in /usr/local/lib/python3.12/dist-packages (from sympy>=1.13.3->torch) (1.3.0)\n",
            "Requirement already satisfied: zipp>=3.20 in /usr/local/lib/python3.12/dist-packages (from importlib_metadata->diffusers) (3.23.0)\n",
            "Requirement already satisfied: MarkupSafe>=2.0 in /usr/local/lib/python3.12/dist-packages (from jinja2->torch) (3.0.3)\n",
            "Requirement already satisfied: charset_normalizer<4,>=2 in /usr/local/lib/python3.12/dist-packages (from requests->diffusers) (3.4.4)\n",
            "Requirement already satisfied: idna<4,>=2.5 in /usr/local/lib/python3.12/dist-packages (from requests->diffusers) (3.11)\n",
            "Requirement already satisfied: urllib3<3,>=1.21.1 in /usr/local/lib/python3.12/dist-packages (from requests->diffusers) (2.5.0)\n",
            "Requirement already satisfied: certifi>=2017.4.17 in /usr/local/lib/python3.12/dist-packages (from requests->diffusers) (2025.10.5)\n",
            "Mounted at /content/drive\n",
            "Found 10192 images in Normal\n",
            "Found 3616 images in COVID\n",
            "Found 6012 images in Lung_Opacity\n",
            "\n",
            "Total images found: 19820\n",
            "Using 2000 images for this run\n",
            "\n",
            "Creating datasets...\n",
            "Train: 1500 images\n",
            "Val: 500 images\n",
            "\n",
            "DataLoaders created successfully!\n",
            "\n",
            "Generating sample images...\n",
            "Saved 8 sample pairs to /content/drive/MyDrive/xray_denoising_dataset/samples\n",
            "\n",
            "Metadata saved to /content/drive/MyDrive/xray_denoising_dataset/metadata.txt\n",
            "\n",
            "Testing data loading...\n",
            "✓ Successfully loaded batch!\n",
            "  - Clean images shape: torch.Size([16, 1, 256, 256])\n",
            "  - Noisy images shape: torch.Size([16, 1, 256, 256])\n",
            "  - Clean images range: [-1.000, 1.000]\n",
            "  - Noisy images range: [-1.000, 1.000]\n",
            "\n",
            "==================================================\n",
            "Setup complete!\n",
            "Device: cuda\n",
            "Output directory: /content/drive/MyDrive/xray_denoising_dataset\n",
            "==================================================\n",
            "\n",
            "Dataset is ready for training!\n",
            "Access training data with: train_loader\n",
            "Access validation data with: val_loader\n",
            "Check samples at: /content/drive/MyDrive/xray_denoising_dataset/samples\n"
          ]
        }
      ]
    },
    {
      "cell_type": "markdown",
      "source": [],
      "metadata": {
        "id": "uTaHoxUFDoce"
      }
    },
    {
      "cell_type": "markdown",
      "source": [],
      "metadata": {
        "id": "0VaEas23D-GN"
      }
    },
    {
      "cell_type": "code",
      "source": [
        "# Install additional packages if needed\n",
        "!pip install scikit-image -q\n",
        "\n",
        "# Import libraries\n",
        "import torch\n",
        "import torch.nn as nn\n",
        "import torch.optim as optim\n",
        "from torch.utils.data import DataLoader\n",
        "import numpy as np\n",
        "from tqdm import tqdm\n",
        "import matplotlib.pyplot as plt\n",
        "import os\n",
        "from skimage.metrics import peak_signal_noise_ratio as psnr\n",
        "from skimage.metrics import structural_similarity as ssim\n",
        "\n",
        "print(\"✓ All libraries imported successfully!\")\n",
        "print(f\"PyTorch version: {torch.__version__}\")\n",
        "print(f\"CUDA available: {torch.cuda.is_available()}\")\n",
        "if torch.cuda.is_available():\n",
        "    print(f\"CUDA device: {torch.cuda.get_device_name(0)}\")\n"
      ],
      "metadata": {
        "colab": {
          "base_uri": "https://localhost:8080/"
        },
        "id": "wgfL8zSLLZiS",
        "outputId": "458a8b5e-6579-4615-f004-bbbeb46088d3"
      },
      "execution_count": 3,
      "outputs": [
        {
          "output_type": "stream",
          "name": "stdout",
          "text": [
            "✓ All libraries imported successfully!\n",
            "PyTorch version: 2.8.0+cu126\n",
            "CUDA available: True\n",
            "CUDA device: Tesla T4\n"
          ]
        }
      ]
    },
    {
      "cell_type": "code",
      "source": [
        "# ============================================================================\n",
        "# CELL 2: DnCNN Model Architecture\n",
        "# ============================================================================\n",
        "# Define the DnCNN neural network\n",
        "\n",
        "class DnCNN(nn.Module):\n",
        "    \"\"\"\n",
        "    DnCNN: Denoising Convolutional Neural Network\n",
        "    Paper: \"Beyond a Gaussian Denoiser: Residual Learning of Deep CNN for Image Denoising\"\n",
        "\n",
        "    Key idea: The network learns to predict the NOISE, not the clean image\n",
        "    Clean image = Noisy image - Predicted noise\n",
        "    \"\"\"\n",
        "    def __init__(self, channels=1, num_layers=17, num_features=64):\n",
        "        \"\"\"\n",
        "        Args:\n",
        "            channels: Number of image channels (1 for grayscale, 3 for RGB)\n",
        "            num_layers: Total number of convolutional layers\n",
        "            num_features: Number of features in hidden layers\n",
        "        \"\"\"\n",
        "        super(DnCNN, self).__init__()\n",
        "\n",
        "        layers = []\n",
        "\n",
        "        # First layer: Conv + ReLU\n",
        "        layers.append(nn.Conv2d(channels, num_features, kernel_size=3, padding=1, bias=False))\n",
        "        layers.append(nn.ReLU(inplace=True))\n",
        "\n",
        "        # Middle layers: Conv + BatchNorm + ReLU\n",
        "        for _ in range(num_layers - 2):\n",
        "            layers.append(nn.Conv2d(num_features, num_features, kernel_size=3, padding=1, bias=False))\n",
        "            layers.append(nn.BatchNorm2d(num_features))\n",
        "            layers.append(nn.ReLU(inplace=True))\n",
        "\n",
        "        # Last layer: Conv (to predict residual noise)\n",
        "        layers.append(nn.Conv2d(num_features, channels, kernel_size=3, padding=1, bias=False))\n",
        "\n",
        "        self.dncnn = nn.Sequential(*layers)\n",
        "\n",
        "    def forward(self, x):\n",
        "        \"\"\"\n",
        "        Forward pass: predicts noise residual\n",
        "\n",
        "        Args:\n",
        "            x: Noisy input image [B, C, H, W]\n",
        "        Returns:\n",
        "            noise: Predicted noise [B, C, H, W]\n",
        "        \"\"\"\n",
        "        noise = self.dncnn(x)\n",
        "        return noise\n",
        "\n",
        "\n",
        "# Test the model\n",
        "device = torch.device('cuda' if torch.cuda.is_available() else 'cpu')\n",
        "test_model = DnCNN(channels=1, num_layers=17, num_features=64).to(device)\n",
        "\n",
        "# Count parameters\n",
        "num_params = sum(p.numel() for p in test_model.parameters())\n",
        "print(f\"✓ DnCNN model created successfully!\")\n",
        "print(f\"  Total parameters: {num_params:,}\")\n",
        "print(f\"  Model size: ~{num_params * 4 / 1024 / 1024:.2f} MB\")\n",
        "\n",
        "# Test forward pass\n",
        "test_input = torch.randn(1, 1, 256, 256).to(device)\n",
        "test_output = test_model(test_input)\n",
        "print(f\"  Test input shape: {test_input.shape}\")\n",
        "print(f\"  Test output shape: {test_output.shape}\")\n",
        "print(\"  ✓ Forward pass successful!\")\n",
        "\n",
        "del test_model, test_input, test_output\n",
        "torch.cuda.empty_cache()"
      ],
      "metadata": {
        "id": "2cf9ZSS7D95D",
        "colab": {
          "base_uri": "https://localhost:8080/"
        },
        "outputId": "6591f113-0bc2-47ac-e0ab-d81ba62ab376"
      },
      "execution_count": 4,
      "outputs": [
        {
          "output_type": "stream",
          "name": "stdout",
          "text": [
            "✓ DnCNN model created successfully!\n",
            "  Total parameters: 556,032\n",
            "  Model size: ~2.12 MB\n",
            "  Test input shape: torch.Size([1, 1, 256, 256])\n",
            "  Test output shape: torch.Size([1, 1, 256, 256])\n",
            "  ✓ Forward pass successful!\n"
          ]
        }
      ]
    },
    {
      "cell_type": "code",
      "source": [
        "# ============================================================================\n",
        "# CELL 3: Training and Validation Functions\n",
        "# ============================================================================\n",
        "\n",
        "def train_epoch(model, train_loader, criterion, optimizer, device):\n",
        "    \"\"\"\n",
        "    Train the model for one epoch\n",
        "\n",
        "    Args:\n",
        "        model: DnCNN model\n",
        "        train_loader: DataLoader for training data\n",
        "        criterion: Loss function (MSE)\n",
        "        optimizer: Optimizer (Adam)\n",
        "        device: cuda or cpu\n",
        "\n",
        "    Returns:\n",
        "        avg_loss: Average loss for the epoch\n",
        "    \"\"\"\n",
        "    model.train()\n",
        "    total_loss = 0\n",
        "    num_batches = 0\n",
        "\n",
        "    progress_bar = tqdm(train_loader, desc='Training', leave=False)\n",
        "\n",
        "    for batch in progress_bar:\n",
        "        # Get clean and noisy images\n",
        "        clean = batch['clean'].to(device)\n",
        "        noisy = batch['noisy'].to(device)\n",
        "\n",
        "        # Forward pass: predict noise\n",
        "        predicted_noise = model(noisy)\n",
        "\n",
        "        # Ground truth noise = noisy - clean\n",
        "        true_noise = noisy - clean\n",
        "\n",
        "        # Compute loss between predicted noise and true noise\n",
        "        loss = criterion(predicted_noise, true_noise)\n",
        "\n",
        "        # Backward pass and optimization\n",
        "        optimizer.zero_grad()\n",
        "        loss.backward()\n",
        "        optimizer.step()\n",
        "\n",
        "        # Track loss\n",
        "        total_loss += loss.item()\n",
        "        num_batches += 1\n",
        "\n",
        "        # Update progress bar\n",
        "        progress_bar.set_postfix({'loss': f'{loss.item():.4f}'})\n",
        "\n",
        "    avg_loss = total_loss / num_batches\n",
        "    return avg_loss\n",
        "\n",
        "\n",
        "def validate(model, val_loader, criterion, device):\n",
        "    \"\"\"\n",
        "    Validate the model\n",
        "\n",
        "    Args:\n",
        "        model: DnCNN model\n",
        "        val_loader: DataLoader for validation data\n",
        "        criterion: Loss function\n",
        "        device: cuda or cpu\n",
        "\n",
        "    Returns:\n",
        "        avg_loss: Average validation loss\n",
        "        avg_psnr: Average PSNR (Peak Signal-to-Noise Ratio)\n",
        "        avg_ssim: Average SSIM (Structural Similarity Index)\n",
        "    \"\"\"\n",
        "    model.eval()\n",
        "    total_loss = 0\n",
        "    total_psnr = 0\n",
        "    total_ssim = 0\n",
        "    num_batches = 0\n",
        "\n",
        "    with torch.no_grad():\n",
        "        for batch in tqdm(val_loader, desc='Validation', leave=False):\n",
        "            clean = batch['clean'].to(device)\n",
        "            noisy = batch['noisy'].to(device)\n",
        "\n",
        "            # Forward pass\n",
        "            predicted_noise = model(noisy)\n",
        "            denoised = noisy - predicted_noise\n",
        "\n",
        "            # Ground truth noise\n",
        "            true_noise = noisy - clean\n",
        "\n",
        "            # Compute loss\n",
        "            loss = criterion(predicted_noise, true_noise)\n",
        "            total_loss += loss.item()\n",
        "\n",
        "            # Denormalize images from [-1, 1] to [0, 1] for metrics\n",
        "            clean_np = (clean.cpu().numpy() * 0.5 + 0.5).clip(0, 1)\n",
        "            denoised_np = (denoised.cpu().numpy() * 0.5 + 0.5).clip(0, 1)\n",
        "\n",
        "            # Calculate PSNR and SSIM for each image in the batch\n",
        "            batch_psnr = 0\n",
        "            batch_ssim = 0\n",
        "            for i in range(clean_np.shape[0]):\n",
        "                img_clean = clean_np[i, 0]  # Remove channel dimension\n",
        "                img_denoised = denoised_np[i, 0]\n",
        "\n",
        "                # Calculate metrics\n",
        "                batch_psnr += psnr(img_clean, img_denoised, data_range=1.0)\n",
        "                batch_ssim += ssim(img_clean, img_denoised, data_range=1.0)\n",
        "\n",
        "            total_psnr += batch_psnr / clean_np.shape[0]\n",
        "            total_ssim += batch_ssim / clean_np.shape[0]\n",
        "            num_batches += 1\n",
        "\n",
        "    avg_loss = total_loss / num_batches\n",
        "    avg_psnr = total_psnr / num_batches\n",
        "    avg_ssim = total_ssim / num_batches\n",
        "\n",
        "    return avg_loss, avg_psnr, avg_ssim\n",
        "\n",
        "\n",
        "print(\"✓ Training and validation functions defined!\")"
      ],
      "metadata": {
        "colab": {
          "base_uri": "https://localhost:8080/"
        },
        "id": "t_Va6poPLsLH",
        "outputId": "441110e2-98af-421d-dc62-e9df2f60811e"
      },
      "execution_count": 5,
      "outputs": [
        {
          "output_type": "stream",
          "name": "stdout",
          "text": [
            "✓ Training and validation functions defined!\n"
          ]
        }
      ]
    },
    {
      "cell_type": "code",
      "source": [
        "# ============================================================================\n",
        "# CELL 4: Visualization Functions\n",
        "# ============================================================================\n",
        "\n",
        "def save_comparison_images(model, val_loader, device, output_dir, num_samples=5):\n",
        "    \"\"\"\n",
        "    Save comparison images showing: noisy input, DnCNN output, clean ground truth\n",
        "\n",
        "    Args:\n",
        "        model: Trained DnCNN model\n",
        "        val_loader: Validation data loader\n",
        "        device: cuda or cpu\n",
        "        output_dir: Directory to save images\n",
        "        num_samples: Number of samples to save\n",
        "    \"\"\"\n",
        "    model.eval()\n",
        "    samples_dir = os.path.join(output_dir, 'dncnn_results')\n",
        "    os.makedirs(samples_dir, exist_ok=True)\n",
        "\n",
        "    with torch.no_grad():\n",
        "        batch = next(iter(val_loader))\n",
        "        clean = batch['clean'].to(device)\n",
        "        noisy = batch['noisy'].to(device)\n",
        "\n",
        "        # Denoise images\n",
        "        predicted_noise = model(noisy)\n",
        "        denoised = noisy - predicted_noise\n",
        "\n",
        "        # Convert to numpy and denormalize from [-1, 1] to [0, 1]\n",
        "        clean_np = (clean.cpu().numpy() * 0.5 + 0.5).clip(0, 1)\n",
        "        noisy_np = (noisy.cpu().numpy() * 0.5 + 0.5).clip(0, 1)\n",
        "        denoised_np = (denoised.cpu().numpy() * 0.5 + 0.5).clip(0, 1)\n",
        "\n",
        "        num_to_save = min(num_samples, clean_np.shape[0])\n",
        "\n",
        "        for i in range(num_to_save):\n",
        "            fig, axes = plt.subplots(1, 3, figsize=(15, 5))\n",
        "\n",
        "            # Noisy input\n",
        "            axes[0].imshow(noisy_np[i, 0], cmap='gray', vmin=0, vmax=1)\n",
        "            axes[0].set_title('Noisy Input', fontsize=14, fontweight='bold')\n",
        "            axes[0].axis('off')\n",
        "\n",
        "            # DnCNN denoised\n",
        "            axes[1].imshow(denoised_np[i, 0], cmap='gray', vmin=0, vmax=1)\n",
        "            axes[1].set_title('DnCNN Denoised', fontsize=14, fontweight='bold')\n",
        "            axes[1].axis('off')\n",
        "\n",
        "            # Clean ground truth\n",
        "            axes[2].imshow(clean_np[i, 0], cmap='gray', vmin=0, vmax=1)\n",
        "            axes[2].set_title('Clean Ground Truth', fontsize=14, fontweight='bold')\n",
        "            axes[2].axis('off')\n",
        "\n",
        "            # Calculate and display metrics\n",
        "            img_psnr = psnr(clean_np[i, 0], denoised_np[i, 0], data_range=1.0)\n",
        "            img_ssim = ssim(clean_np[i, 0], denoised_np[i, 0], data_range=1.0)\n",
        "\n",
        "            plt.suptitle(f'PSNR: {img_psnr:.2f} dB | SSIM: {img_ssim:.4f}',\n",
        "                        fontsize=12, fontweight='bold')\n",
        "            plt.tight_layout()\n",
        "            plt.savefig(os.path.join(samples_dir, f'comparison_{i}.png'),\n",
        "                       dpi=150, bbox_inches='tight')\n",
        "            plt.close()\n",
        "\n",
        "    print(f\"✓ Saved {num_to_save} comparison images to {samples_dir}\")\n",
        "\n",
        "\n",
        "def plot_training_curves(history, output_dir):\n",
        "    \"\"\"\n",
        "    Plot training curves: loss, PSNR, and SSIM\n",
        "\n",
        "    Args:\n",
        "        history: Dictionary containing training history\n",
        "        output_dir: Directory to save the plot\n",
        "    \"\"\"\n",
        "    fig, axes = plt.subplots(2, 2, figsize=(14, 10))\n",
        "\n",
        "    epochs = range(1, len(history['train_loss']) + 1)\n",
        "\n",
        "    # Plot 1: Training and Validation Loss\n",
        "    axes[0, 0].plot(epochs, history['train_loss'], 'b-', label='Train Loss', linewidth=2)\n",
        "    axes[0, 0].plot(epochs, history['val_loss'], 'r-', label='Val Loss', linewidth=2)\n",
        "    axes[0, 0].set_xlabel('Epoch', fontsize=12)\n",
        "    axes[0, 0].set_ylabel('Loss', fontsize=12)\n",
        "    axes[0, 0].set_title('Training and Validation Loss', fontsize=14, fontweight='bold')\n",
        "    axes[0, 0].legend(fontsize=10)\n",
        "    axes[0, 0].grid(True, alpha=0.3)\n",
        "\n",
        "    # Plot 2: Validation PSNR\n",
        "    axes[0, 1].plot(epochs, history['val_psnr'], 'g-', linewidth=2)\n",
        "    axes[0, 1].set_xlabel('Epoch', fontsize=12)\n",
        "    axes[0, 1].set_ylabel('PSNR (dB)', fontsize=12)\n",
        "    axes[0, 1].set_title('Validation PSNR', fontsize=14, fontweight='bold')\n",
        "    axes[0, 1].grid(True, alpha=0.3)\n",
        "\n",
        "    # Plot 3: Validation SSIM\n",
        "    axes[1, 0].plot(epochs, history['val_ssim'], 'm-', linewidth=2)\n",
        "    axes[1, 0].set_xlabel('Epoch', fontsize=12)\n",
        "    axes[1, 0].set_ylabel('SSIM', fontsize=12)\n",
        "    axes[1, 0].set_title('Validation SSIM', fontsize=14, fontweight='bold')\n",
        "    axes[1, 0].grid(True, alpha=0.3)\n",
        "\n",
        "    # Plot 4: Summary Statistics\n",
        "    axes[1, 1].axis('off')\n",
        "    summary_text = f\"\"\"\n",
        "    DnCNN Training Summary\n",
        "    {'='*35}\n",
        "\n",
        "    Final Metrics:\n",
        "    • Train Loss:  {history['train_loss'][-1]:.4f}\n",
        "    • Val Loss:    {history['val_loss'][-1]:.4f}\n",
        "    • Val PSNR:    {history['val_psnr'][-1]:.2f} dB\n",
        "    • Val SSIM:    {history['val_ssim'][-1]:.4f}\n",
        "\n",
        "    Best Metrics:\n",
        "    • Best PSNR:   {max(history['val_psnr']):.2f} dB\n",
        "    • Best SSIM:   {max(history['val_ssim']):.4f}\n",
        "\n",
        "    Total Epochs:  {len(epochs)}\n",
        "    \"\"\"\n",
        "    axes[1, 1].text(0.1, 0.5, summary_text, fontsize=11, family='monospace',\n",
        "                     verticalalignment='center', bbox=dict(boxstyle='round',\n",
        "                     facecolor='lightblue', alpha=0.3))\n",
        "\n",
        "    plt.tight_layout()\n",
        "    plt.savefig(os.path.join(output_dir, 'dncnn_training_curves.png'),\n",
        "               dpi=150, bbox_inches='tight')\n",
        "    plt.close()\n",
        "\n",
        "    print(f\"✓ Training curves saved to {output_dir}/dncnn_training_curves.png\")\n",
        "\n",
        "\n",
        "print(\"✓ Visualization functions defined!\")"
      ],
      "metadata": {
        "id": "Id_RSXV0MPOB",
        "outputId": "2997146e-2cec-4dd1-d945-15874619a1c8",
        "colab": {
          "base_uri": "https://localhost:8080/"
        }
      },
      "execution_count": 6,
      "outputs": [
        {
          "output_type": "stream",
          "name": "stdout",
          "text": [
            "✓ Visualization functions defined!\n"
          ]
        }
      ]
    },
    {
      "cell_type": "code",
      "source": [
        "# ============================================================================\n",
        "# CELL 5: Main Training Loop (FIXED VERSION)\n",
        "# ============================================================================\n",
        "\n",
        "def train_dncnn(train_loader, val_loader, output_dir, num_epochs=50, learning_rate=1e-3):\n",
        "    \"\"\"\n",
        "    Main training function for DnCNN\n",
        "\n",
        "    Args:\n",
        "        train_loader: Training data loader\n",
        "        val_loader: Validation data loader\n",
        "        output_dir: Directory to save outputs\n",
        "        num_epochs: Number of training epochs\n",
        "        learning_rate: Initial learning rate\n",
        "\n",
        "    Returns:\n",
        "        model: Trained DnCNN model\n",
        "        history: Training history (losses, metrics)\n",
        "    \"\"\"\n",
        "\n",
        "    # Set device\n",
        "    device = torch.device('cuda' if torch.cuda.is_available() else 'cpu')\n",
        "    print(f\"Training on device: {device}\")\n",
        "\n",
        "    # Initialize model\n",
        "    model = DnCNN(channels=1, num_layers=17, num_features=64).to(device)\n",
        "    num_params = sum(p.numel() for p in model.parameters())\n",
        "    print(f\"Model initialized with {num_params:,} parameters\")\n",
        "\n",
        "    # Loss function and optimizer\n",
        "    criterion = nn.MSELoss()\n",
        "    optimizer = optim.Adam(model.parameters(), lr=learning_rate)\n",
        "\n",
        "    # Learning rate scheduler (reduces LR when validation loss plateaus)\n",
        "    # FIXED: Removed verbose parameter\n",
        "    scheduler = optim.lr_scheduler.ReduceLROnPlateau(\n",
        "        optimizer, mode='min', factor=0.5, patience=5\n",
        "    )\n",
        "\n",
        "    # Training history\n",
        "    history = {\n",
        "        'train_loss': [],\n",
        "        'val_loss': [],\n",
        "        'val_psnr': [],\n",
        "        'val_ssim': []\n",
        "    }\n",
        "\n",
        "    best_psnr = 0\n",
        "    best_epoch = 0\n",
        "\n",
        "    print(\"\\n\" + \"=\"*70)\n",
        "    print(\"STARTING DNCNN TRAINING\")\n",
        "    print(\"=\"*70)\n",
        "    print(f\"Number of epochs: {num_epochs}\")\n",
        "    print(f\"Learning rate: {learning_rate}\")\n",
        "    print(f\"Batch size: {train_loader.batch_size}\")\n",
        "    print(f\"Training samples: {len(train_loader.dataset)}\")\n",
        "    print(f\"Validation samples: {len(val_loader.dataset)}\")\n",
        "    print(\"=\"*70 + \"\\n\")\n",
        "\n",
        "    # Training loop\n",
        "    for epoch in range(num_epochs):\n",
        "        print(f\"\\nEpoch {epoch+1}/{num_epochs}\")\n",
        "        print(\"-\" * 70)\n",
        "\n",
        "        # Train for one epoch\n",
        "        train_loss = train_epoch(model, train_loader, criterion, optimizer, device)\n",
        "\n",
        "        # Validate\n",
        "        val_loss, val_psnr, val_ssim = validate(model, val_loader, criterion, device)\n",
        "\n",
        "        # Get current learning rate\n",
        "        current_lr = optimizer.param_groups[0]['lr']\n",
        "\n",
        "        # Update learning rate based on validation loss\n",
        "        old_lr = current_lr\n",
        "        scheduler.step(val_loss)\n",
        "        new_lr = optimizer.param_groups[0]['lr']\n",
        "\n",
        "        # Save metrics to history\n",
        "        history['train_loss'].append(train_loss)\n",
        "        history['val_loss'].append(val_loss)\n",
        "        history['val_psnr'].append(val_psnr)\n",
        "        history['val_ssim'].append(val_ssim)\n",
        "\n",
        "        # Print results\n",
        "        print(f\"\\nResults:\")\n",
        "        print(f\"  Train Loss: {train_loss:.4f}\")\n",
        "        print(f\"  Val Loss:   {val_loss:.4f}\")\n",
        "        print(f\"  Val PSNR:   {val_psnr:.2f} dB\")\n",
        "        print(f\"  Val SSIM:   {val_ssim:.4f}\")\n",
        "        print(f\"  Learning Rate: {current_lr:.6f}\")\n",
        "\n",
        "        # Check if learning rate was reduced\n",
        "        if new_lr < old_lr:\n",
        "            print(f\"  ⚠ Learning rate reduced: {old_lr:.6f} → {new_lr:.6f}\")\n",
        "\n",
        "        # Save best model\n",
        "        if val_psnr > best_psnr:\n",
        "            best_psnr = val_psnr\n",
        "            best_epoch = epoch + 1\n",
        "            torch.save({\n",
        "                'epoch': epoch,\n",
        "                'model_state_dict': model.state_dict(),\n",
        "                'optimizer_state_dict': optimizer.state_dict(),\n",
        "                'val_psnr': val_psnr,\n",
        "                'val_ssim': val_ssim,\n",
        "                'history': history\n",
        "            }, os.path.join(output_dir, 'dncnn_best.pth'))\n",
        "            print(f\"  ✓ New best model saved! (PSNR: {best_psnr:.2f} dB)\")\n",
        "\n",
        "        # Save checkpoint every 10 epochs\n",
        "        if (epoch + 1) % 10 == 0:\n",
        "            torch.save({\n",
        "                'epoch': epoch,\n",
        "                'model_state_dict': model.state_dict(),\n",
        "                'optimizer_state_dict': optimizer.state_dict(),\n",
        "                'history': history\n",
        "            }, os.path.join(output_dir, f'dncnn_epoch_{epoch+1}.pth'))\n",
        "            print(f\"  Checkpoint saved: dncnn_epoch_{epoch+1}.pth\")\n",
        "\n",
        "    print(\"\\n\" + \"=\"*70)\n",
        "    print(\"TRAINING COMPLETE!\")\n",
        "    print(\"=\"*70)\n",
        "    print(f\"Best PSNR: {best_psnr:.2f} dB (Epoch {best_epoch})\")\n",
        "    print(f\"Best SSIM: {max(history['val_ssim']):.4f}\")\n",
        "    print(\"=\"*70 + \"\\n\")\n",
        "\n",
        "    # Plot training curves\n",
        "    plot_training_curves(history, output_dir)\n",
        "\n",
        "    # Load best model for inference\n",
        "    checkpoint = torch.load(os.path.join(output_dir, 'dncnn_best.pth'))\n",
        "    model.load_state_dict(checkpoint['model_state_dict'])\n",
        "\n",
        "    # Save comparison images\n",
        "    save_comparison_images(model, val_loader, device, output_dir, num_samples=8)\n",
        "\n",
        "    return model, history\n",
        "\n",
        "\n",
        "print(\"✓ Main training function defined (FIXED VERSION)!\")\n",
        "print(\"\\nReady to train! Run the next cell to start training.\")"
      ],
      "metadata": {
        "id": "zOQcexhfN4_k",
        "outputId": "63ba1469-ff90-459b-a51d-6da5f09ff79b",
        "colab": {
          "base_uri": "https://localhost:8080/"
        }
      },
      "execution_count": 7,
      "outputs": [
        {
          "output_type": "stream",
          "name": "stdout",
          "text": [
            "✓ Main training function defined (FIXED VERSION)!\n",
            "\n",
            "Ready to train! Run the next cell to start training.\n"
          ]
        }
      ]
    },
    {
      "cell_type": "code",
      "source": [
        "# ============================================================================\n",
        "# CELL 6: Execute Training\n",
        "# ============================================================================\n",
        "# Run this cell to start training DnCNN!\n",
        "\n",
        "# Make sure you have already run your data preparation code and have:\n",
        "# - train_loader\n",
        "# - val_loader\n",
        "# - output_dir\n",
        "\n",
        "# Training configuration\n",
        "NUM_EPOCHS = 50        # Number of training epochs (can reduce to 30 for faster training)\n",
        "LEARNING_RATE = 1e-3   # Initial learning rate\n",
        "\n",
        "print(\"Starting DnCNN training...\")\n",
        "print(f\"Configuration:\")\n",
        "print(f\"  - Epochs: {NUM_EPOCHS}\")\n",
        "print(f\"  - Learning rate: {LEARNING_RATE}\")\n",
        "print(f\"  - Output directory: {output_dir}\")\n",
        "print()\n",
        "\n",
        "# Start training\n",
        "model, history = train_dncnn(\n",
        "    train_loader=train_loader,\n",
        "    val_loader=val_loader,\n",
        "    output_dir=output_dir,\n",
        "    num_epochs=NUM_EPOCHS,\n",
        "    learning_rate=LEARNING_RATE\n",
        ")\n",
        "\n",
        "print(\"\\n\" + \"=\"*70)\n",
        "print(\"DnCNN TRAINING FINISHED!\")\n",
        "print(\"=\"*70)\n",
        "print(\"\\nSaved files:\")\n",
        "print(f\"  1. Best model: {output_dir}/dncnn_best.pth\")\n",
        "print(f\"  2. Training curves: {output_dir}/dncnn_training_curves.png\")\n",
        "print(f\"  3. Result images: {output_dir}/dncnn_results/\")\n",
        "print(\"\\nYou can now:\")\n",
        "print(\"  • View the training curves\")\n",
        "print(\"  • Check the denoised results\")\n",
        "print(\"  • Proceed to next milestone (diffusion model)\")\n",
        "print(\"=\"*70)"
      ],
      "metadata": {
        "id": "6OJxLEb0ODZf",
        "outputId": "db7b3ce3-4bd5-419a-9a1e-7e81e66619b3",
        "colab": {
          "base_uri": "https://localhost:8080/",
          "height": 1000
        }
      },
      "execution_count": 8,
      "outputs": [
        {
          "metadata": {
            "tags": null
          },
          "name": "stdout",
          "output_type": "stream",
          "text": [
            "Starting DnCNN training...\n",
            "Configuration:\n",
            "  - Epochs: 50\n",
            "  - Learning rate: 0.001\n",
            "  - Output directory: /content/drive/MyDrive/xray_denoising_dataset\n",
            "\n",
            "Training on device: cuda\n",
            "Model initialized with 556,032 parameters\n",
            "\n",
            "======================================================================\n",
            "STARTING DNCNN TRAINING\n",
            "======================================================================\n",
            "Number of epochs: 50\n",
            "Learning rate: 0.001\n",
            "Batch size: 16\n",
            "Training samples: 1500\n",
            "Validation samples: 500\n",
            "======================================================================\n",
            "\n",
            "\n",
            "Epoch 1/50\n",
            "----------------------------------------------------------------------\n"
          ]
        },
        {
          "metadata": {
            "tags": null
          },
          "name": "stderr",
          "output_type": "stream",
          "text": [
            ""
          ]
        },
        {
          "metadata": {
            "tags": null
          },
          "name": "stdout",
          "output_type": "stream",
          "text": [
            "\n",
            "Results:\n",
            "  Train Loss: 0.0344\n",
            "  Val Loss:   0.0083\n",
            "  Val PSNR:   27.00 dB\n",
            "  Val SSIM:   0.5887\n",
            "  Learning Rate: 0.001000\n",
            "  ✓ New best model saved! (PSNR: 27.00 dB)\n",
            "\n",
            "Epoch 2/50\n",
            "----------------------------------------------------------------------\n"
          ]
        },
        {
          "metadata": {
            "tags": null
          },
          "name": "stderr",
          "output_type": "stream",
          "text": [
            ""
          ]
        },
        {
          "metadata": {
            "tags": null
          },
          "name": "stdout",
          "output_type": "stream",
          "text": [
            "\n",
            "Results:\n",
            "  Train Loss: 0.0060\n",
            "  Val Loss:   0.0037\n",
            "  Val PSNR:   30.46 dB\n",
            "  Val SSIM:   0.7840\n",
            "  Learning Rate: 0.001000\n",
            "  ✓ New best model saved! (PSNR: 30.46 dB)\n",
            "\n",
            "Epoch 3/50\n",
            "----------------------------------------------------------------------\n"
          ]
        },
        {
          "metadata": {
            "tags": null
          },
          "name": "stderr",
          "output_type": "stream",
          "text": [
            ""
          ]
        },
        {
          "metadata": {
            "tags": null
          },
          "name": "stdout",
          "output_type": "stream",
          "text": [
            "\n",
            "Results:\n",
            "  Train Loss: 0.0047\n",
            "  Val Loss:   0.0087\n",
            "  Val PSNR:   27.14 dB\n",
            "  Val SSIM:   0.7124\n",
            "  Learning Rate: 0.001000\n",
            "\n",
            "Epoch 4/50\n",
            "----------------------------------------------------------------------\n"
          ]
        },
        {
          "metadata": {
            "tags": null
          },
          "name": "stderr",
          "output_type": "stream",
          "text": [
            ""
          ]
        },
        {
          "metadata": {
            "tags": null
          },
          "name": "stdout",
          "output_type": "stream",
          "text": [
            "\n",
            "Results:\n",
            "  Train Loss: 0.0038\n",
            "  Val Loss:   0.0032\n",
            "  Val PSNR:   31.13 dB\n",
            "  Val SSIM:   0.8103\n",
            "  Learning Rate: 0.001000\n",
            "  ✓ New best model saved! (PSNR: 31.13 dB)\n",
            "\n",
            "Epoch 5/50\n",
            "----------------------------------------------------------------------\n"
          ]
        },
        {
          "metadata": {
            "tags": null
          },
          "name": "stderr",
          "output_type": "stream",
          "text": [
            ""
          ]
        },
        {
          "metadata": {
            "tags": null
          },
          "name": "stdout",
          "output_type": "stream",
          "text": [
            "\n",
            "Results:\n",
            "  Train Loss: 0.0034\n",
            "  Val Loss:   0.0030\n",
            "  Val PSNR:   31.46 dB\n",
            "  Val SSIM:   0.8227\n",
            "  Learning Rate: 0.001000\n",
            "  ✓ New best model saved! (PSNR: 31.46 dB)\n",
            "\n",
            "Epoch 6/50\n",
            "----------------------------------------------------------------------\n"
          ]
        },
        {
          "metadata": {
            "tags": null
          },
          "name": "stderr",
          "output_type": "stream",
          "text": [
            ""
          ]
        },
        {
          "metadata": {
            "tags": null
          },
          "name": "stdout",
          "output_type": "stream",
          "text": [
            "\n",
            "Results:\n",
            "  Train Loss: 0.0030\n",
            "  Val Loss:   0.0026\n",
            "  Val PSNR:   31.92 dB\n",
            "  Val SSIM:   0.8401\n",
            "  Learning Rate: 0.001000\n",
            "  ✓ New best model saved! (PSNR: 31.92 dB)\n",
            "\n",
            "Epoch 7/50\n",
            "----------------------------------------------------------------------\n"
          ]
        },
        {
          "metadata": {
            "tags": null
          },
          "name": "stderr",
          "output_type": "stream",
          "text": [
            ""
          ]
        },
        {
          "metadata": {
            "tags": null
          },
          "name": "stdout",
          "output_type": "stream",
          "text": [
            "\n",
            "Results:\n",
            "  Train Loss: 0.0031\n",
            "  Val Loss:   0.0028\n",
            "  Val PSNR:   31.61 dB\n",
            "  Val SSIM:   0.8315\n",
            "  Learning Rate: 0.001000\n",
            "\n",
            "Epoch 8/50\n",
            "----------------------------------------------------------------------\n"
          ]
        },
        {
          "metadata": {
            "tags": null
          },
          "name": "stderr",
          "output_type": "stream",
          "text": [
            ""
          ]
        },
        {
          "metadata": {
            "tags": null
          },
          "name": "stdout",
          "output_type": "stream",
          "text": [
            "\n",
            "Results:\n",
            "  Train Loss: 0.0028\n",
            "  Val Loss:   0.0031\n",
            "  Val PSNR:   31.42 dB\n",
            "  Val SSIM:   0.8346\n",
            "  Learning Rate: 0.001000\n",
            "\n",
            "Epoch 9/50\n",
            "----------------------------------------------------------------------\n"
          ]
        },
        {
          "metadata": {
            "tags": null
          },
          "name": "stderr",
          "output_type": "stream",
          "text": [
            ""
          ]
        },
        {
          "metadata": {
            "tags": null
          },
          "name": "stdout",
          "output_type": "stream",
          "text": [
            "\n",
            "Results:\n",
            "  Train Loss: 0.0027\n",
            "  Val Loss:   0.0025\n",
            "  Val PSNR:   32.30 dB\n",
            "  Val SSIM:   0.8493\n",
            "  Learning Rate: 0.001000\n",
            "  ✓ New best model saved! (PSNR: 32.30 dB)\n",
            "\n",
            "Epoch 10/50\n",
            "----------------------------------------------------------------------\n"
          ]
        },
        {
          "metadata": {
            "tags": null
          },
          "name": "stderr",
          "output_type": "stream",
          "text": [
            ""
          ]
        },
        {
          "metadata": {
            "tags": null
          },
          "name": "stdout",
          "output_type": "stream",
          "text": [
            "\n",
            "Results:\n",
            "  Train Loss: 0.0026\n",
            "  Val Loss:   0.0023\n",
            "  Val PSNR:   32.48 dB\n",
            "  Val SSIM:   0.8573\n",
            "  Learning Rate: 0.001000\n",
            "  ✓ New best model saved! (PSNR: 32.48 dB)\n",
            "  Checkpoint saved: dncnn_epoch_10.pth\n",
            "\n",
            "Epoch 11/50\n",
            "----------------------------------------------------------------------\n"
          ]
        },
        {
          "metadata": {
            "tags": null
          },
          "name": "stderr",
          "output_type": "stream",
          "text": [
            ""
          ]
        },
        {
          "metadata": {
            "tags": null
          },
          "name": "stdout",
          "output_type": "stream",
          "text": [
            "\n",
            "Results:\n",
            "  Train Loss: 0.0025\n",
            "  Val Loss:   0.0023\n",
            "  Val PSNR:   32.48 dB\n",
            "  Val SSIM:   0.8581\n",
            "  Learning Rate: 0.001000\n",
            "  ✓ New best model saved! (PSNR: 32.48 dB)\n",
            "\n",
            "Epoch 12/50\n",
            "----------------------------------------------------------------------\n"
          ]
        },
        {
          "metadata": {
            "tags": null
          },
          "name": "stderr",
          "output_type": "stream",
          "text": [
            ""
          ]
        },
        {
          "metadata": {
            "tags": null
          },
          "name": "stdout",
          "output_type": "stream",
          "text": [
            "\n",
            "Results:\n",
            "  Train Loss: 0.0024\n",
            "  Val Loss:   0.0022\n",
            "  Val PSNR:   32.80 dB\n",
            "  Val SSIM:   0.8664\n",
            "  Learning Rate: 0.001000\n",
            "  ✓ New best model saved! (PSNR: 32.80 dB)\n",
            "\n",
            "Epoch 13/50\n",
            "----------------------------------------------------------------------\n"
          ]
        },
        {
          "metadata": {
            "tags": null
          },
          "name": "stderr",
          "output_type": "stream",
          "text": [
            ""
          ]
        },
        {
          "metadata": {
            "tags": null
          },
          "name": "stdout",
          "output_type": "stream",
          "text": [
            "\n",
            "Results:\n",
            "  Train Loss: 0.0023\n",
            "  Val Loss:   0.0021\n",
            "  Val PSNR:   32.83 dB\n",
            "  Val SSIM:   0.8640\n",
            "  Learning Rate: 0.001000\n",
            "  ✓ New best model saved! (PSNR: 32.83 dB)\n",
            "\n",
            "Epoch 14/50\n",
            "----------------------------------------------------------------------\n"
          ]
        },
        {
          "metadata": {
            "tags": null
          },
          "name": "stderr",
          "output_type": "stream",
          "text": [
            ""
          ]
        },
        {
          "metadata": {
            "tags": null
          },
          "name": "stdout",
          "output_type": "stream",
          "text": [
            "\n",
            "Results:\n",
            "  Train Loss: 0.0023\n",
            "  Val Loss:   0.0024\n",
            "  Val PSNR:   32.45 dB\n",
            "  Val SSIM:   0.8577\n",
            "  Learning Rate: 0.001000\n",
            "\n",
            "Epoch 15/50\n",
            "----------------------------------------------------------------------\n"
          ]
        },
        {
          "metadata": {
            "tags": null
          },
          "name": "stderr",
          "output_type": "stream",
          "text": [
            ""
          ]
        },
        {
          "metadata": {
            "tags": null
          },
          "name": "stdout",
          "output_type": "stream",
          "text": [
            "\n",
            "Results:\n",
            "  Train Loss: 0.0023\n",
            "  Val Loss:   0.0021\n",
            "  Val PSNR:   33.00 dB\n",
            "  Val SSIM:   0.8676\n",
            "  Learning Rate: 0.001000\n",
            "  ✓ New best model saved! (PSNR: 33.00 dB)\n",
            "\n",
            "Epoch 16/50\n",
            "----------------------------------------------------------------------\n"
          ]
        },
        {
          "metadata": {
            "tags": null
          },
          "name": "stderr",
          "output_type": "stream",
          "text": [
            ""
          ]
        },
        {
          "metadata": {
            "tags": null
          },
          "name": "stdout",
          "output_type": "stream",
          "text": [
            "\n",
            "Results:\n",
            "  Train Loss: 0.0022\n",
            "  Val Loss:   0.0021\n",
            "  Val PSNR:   32.94 dB\n",
            "  Val SSIM:   0.8628\n",
            "  Learning Rate: 0.001000\n",
            "\n",
            "Epoch 17/50\n",
            "----------------------------------------------------------------------\n"
          ]
        },
        {
          "metadata": {
            "tags": null
          },
          "name": "stderr",
          "output_type": "stream",
          "text": [
            ""
          ]
        },
        {
          "metadata": {
            "tags": null
          },
          "name": "stdout",
          "output_type": "stream",
          "text": [
            "\n",
            "Results:\n",
            "  Train Loss: 0.0022\n",
            "  Val Loss:   0.0021\n",
            "  Val PSNR:   32.98 dB\n",
            "  Val SSIM:   0.8642\n",
            "  Learning Rate: 0.001000\n",
            "\n",
            "Epoch 18/50\n",
            "----------------------------------------------------------------------\n"
          ]
        },
        {
          "metadata": {
            "tags": null
          },
          "name": "stderr",
          "output_type": "stream",
          "text": [
            ""
          ]
        },
        {
          "metadata": {
            "tags": null
          },
          "name": "stdout",
          "output_type": "stream",
          "text": [
            "\n",
            "Results:\n",
            "  Train Loss: 0.0021\n",
            "  Val Loss:   0.0022\n",
            "  Val PSNR:   32.86 dB\n",
            "  Val SSIM:   0.8647\n",
            "  Learning Rate: 0.001000\n",
            "\n",
            "Epoch 19/50\n",
            "----------------------------------------------------------------------\n"
          ]
        },
        {
          "metadata": {
            "tags": null
          },
          "name": "stderr",
          "output_type": "stream",
          "text": [
            ""
          ]
        },
        {
          "metadata": {
            "tags": null
          },
          "name": "stdout",
          "output_type": "stream",
          "text": [
            "\n",
            "Results:\n",
            "  Train Loss: 0.0022\n",
            "  Val Loss:   0.0019\n",
            "  Val PSNR:   33.26 dB\n",
            "  Val SSIM:   0.8777\n",
            "  Learning Rate: 0.001000\n",
            "  ✓ New best model saved! (PSNR: 33.26 dB)\n",
            "\n",
            "Epoch 20/50\n",
            "----------------------------------------------------------------------\n"
          ]
        },
        {
          "metadata": {
            "tags": null
          },
          "name": "stderr",
          "output_type": "stream",
          "text": [
            ""
          ]
        },
        {
          "metadata": {
            "tags": null
          },
          "name": "stdout",
          "output_type": "stream",
          "text": [
            "\n",
            "Results:\n",
            "  Train Loss: 0.0020\n",
            "  Val Loss:   0.0020\n",
            "  Val PSNR:   33.24 dB\n",
            "  Val SSIM:   0.8745\n",
            "  Learning Rate: 0.001000\n",
            "  Checkpoint saved: dncnn_epoch_20.pth\n",
            "\n",
            "Epoch 21/50\n",
            "----------------------------------------------------------------------\n"
          ]
        },
        {
          "metadata": {
            "tags": null
          },
          "name": "stderr",
          "output_type": "stream",
          "text": [
            ""
          ]
        },
        {
          "metadata": {
            "tags": null
          },
          "name": "stdout",
          "output_type": "stream",
          "text": [
            "\n",
            "Results:\n",
            "  Train Loss: 0.0020\n",
            "  Val Loss:   0.0019\n",
            "  Val PSNR:   33.35 dB\n",
            "  Val SSIM:   0.8787\n",
            "  Learning Rate: 0.001000\n",
            "  ✓ New best model saved! (PSNR: 33.35 dB)\n",
            "\n",
            "Epoch 22/50\n",
            "----------------------------------------------------------------------\n"
          ]
        },
        {
          "metadata": {
            "tags": null
          },
          "name": "stderr",
          "output_type": "stream",
          "text": [
            ""
          ]
        },
        {
          "metadata": {
            "tags": null
          },
          "name": "stdout",
          "output_type": "stream",
          "text": [
            "\n",
            "Results:\n",
            "  Train Loss: 0.0021\n",
            "  Val Loss:   0.0020\n",
            "  Val PSNR:   33.20 dB\n",
            "  Val SSIM:   0.8745\n",
            "  Learning Rate: 0.001000\n",
            "\n",
            "Epoch 23/50\n",
            "----------------------------------------------------------------------\n"
          ]
        },
        {
          "metadata": {
            "tags": null
          },
          "name": "stderr",
          "output_type": "stream",
          "text": [
            ""
          ]
        },
        {
          "metadata": {
            "tags": null
          },
          "name": "stdout",
          "output_type": "stream",
          "text": [
            "\n",
            "Results:\n",
            "  Train Loss: 0.0020\n",
            "  Val Loss:   0.0019\n",
            "  Val PSNR:   33.40 dB\n",
            "  Val SSIM:   0.8804\n",
            "  Learning Rate: 0.001000\n",
            "  ✓ New best model saved! (PSNR: 33.40 dB)\n",
            "\n",
            "Epoch 24/50\n",
            "----------------------------------------------------------------------\n"
          ]
        },
        {
          "metadata": {
            "tags": null
          },
          "name": "stderr",
          "output_type": "stream",
          "text": [
            ""
          ]
        },
        {
          "metadata": {
            "tags": null
          },
          "name": "stdout",
          "output_type": "stream",
          "text": [
            "\n",
            "Results:\n",
            "  Train Loss: 0.0020\n",
            "  Val Loss:   0.0019\n",
            "  Val PSNR:   33.27 dB\n",
            "  Val SSIM:   0.8771\n",
            "  Learning Rate: 0.001000\n",
            "\n",
            "Epoch 25/50\n",
            "----------------------------------------------------------------------\n"
          ]
        },
        {
          "metadata": {
            "tags": null
          },
          "name": "stderr",
          "output_type": "stream",
          "text": [
            ""
          ]
        },
        {
          "metadata": {
            "tags": null
          },
          "name": "stdout",
          "output_type": "stream",
          "text": [
            "\n",
            "Results:\n",
            "  Train Loss: 0.0020\n",
            "  Val Loss:   0.0019\n",
            "  Val PSNR:   33.31 dB\n",
            "  Val SSIM:   0.8729\n",
            "  Learning Rate: 0.001000\n",
            "\n",
            "Epoch 26/50\n",
            "----------------------------------------------------------------------\n"
          ]
        },
        {
          "metadata": {
            "tags": null
          },
          "name": "stderr",
          "output_type": "stream",
          "text": [
            ""
          ]
        },
        {
          "metadata": {
            "tags": null
          },
          "name": "stdout",
          "output_type": "stream",
          "text": [
            "\n",
            "Results:\n",
            "  Train Loss: 0.0019\n",
            "  Val Loss:   0.0019\n",
            "  Val PSNR:   33.41 dB\n",
            "  Val SSIM:   0.8794\n",
            "  Learning Rate: 0.001000\n",
            "  ✓ New best model saved! (PSNR: 33.41 dB)\n",
            "\n",
            "Epoch 27/50\n",
            "----------------------------------------------------------------------\n"
          ]
        },
        {
          "output_type": "stream",
          "name": "stderr",
          "text": []
        },
        {
          "output_type": "stream",
          "name": "stdout",
          "text": [
            "\n",
            "Results:\n",
            "  Train Loss: 0.0020\n",
            "  Val Loss:   0.0018\n",
            "  Val PSNR:   33.46 dB\n",
            "  Val SSIM:   0.8806\n",
            "  Learning Rate: 0.001000\n",
            "  ✓ New best model saved! (PSNR: 33.46 dB)\n",
            "\n",
            "Epoch 28/50\n",
            "----------------------------------------------------------------------\n"
          ]
        },
        {
          "output_type": "stream",
          "name": "stderr",
          "text": []
        },
        {
          "output_type": "stream",
          "name": "stdout",
          "text": [
            "\n",
            "Results:\n",
            "  Train Loss: 0.0019\n",
            "  Val Loss:   0.0025\n",
            "  Val PSNR:   33.40 dB\n",
            "  Val SSIM:   0.8826\n",
            "  Learning Rate: 0.001000\n",
            "\n",
            "Epoch 29/50\n",
            "----------------------------------------------------------------------\n"
          ]
        },
        {
          "output_type": "stream",
          "name": "stderr",
          "text": []
        },
        {
          "output_type": "stream",
          "name": "stdout",
          "text": [
            "\n",
            "Results:\n",
            "  Train Loss: 0.0019\n",
            "  Val Loss:   0.0018\n",
            "  Val PSNR:   33.53 dB\n",
            "  Val SSIM:   0.8820\n",
            "  Learning Rate: 0.001000\n",
            "  ✓ New best model saved! (PSNR: 33.53 dB)\n",
            "\n",
            "Epoch 30/50\n",
            "----------------------------------------------------------------------\n"
          ]
        },
        {
          "output_type": "stream",
          "name": "stderr",
          "text": []
        },
        {
          "output_type": "stream",
          "name": "stdout",
          "text": [
            "\n",
            "Results:\n",
            "  Train Loss: 0.0019\n",
            "  Val Loss:   0.0018\n",
            "  Val PSNR:   33.53 dB\n",
            "  Val SSIM:   0.8839\n",
            "  Learning Rate: 0.001000\n",
            "  ✓ New best model saved! (PSNR: 33.53 dB)\n",
            "  Checkpoint saved: dncnn_epoch_30.pth\n",
            "\n",
            "Epoch 31/50\n",
            "----------------------------------------------------------------------\n"
          ]
        },
        {
          "output_type": "stream",
          "name": "stderr",
          "text": []
        },
        {
          "output_type": "stream",
          "name": "stdout",
          "text": [
            "\n",
            "Results:\n",
            "  Train Loss: 0.0019\n",
            "  Val Loss:   0.0018\n",
            "  Val PSNR:   33.52 dB\n",
            "  Val SSIM:   0.8813\n",
            "  Learning Rate: 0.001000\n",
            "\n",
            "Epoch 32/50\n",
            "----------------------------------------------------------------------\n"
          ]
        },
        {
          "output_type": "stream",
          "name": "stderr",
          "text": []
        },
        {
          "output_type": "stream",
          "name": "stdout",
          "text": [
            "\n",
            "Results:\n",
            "  Train Loss: 0.0019\n",
            "  Val Loss:   0.0147\n",
            "  Val PSNR:   28.23 dB\n",
            "  Val SSIM:   0.8563\n",
            "  Learning Rate: 0.001000\n",
            "\n",
            "Epoch 33/50\n",
            "----------------------------------------------------------------------\n"
          ]
        },
        {
          "output_type": "stream",
          "name": "stderr",
          "text": []
        },
        {
          "output_type": "stream",
          "name": "stdout",
          "text": [
            "\n",
            "Results:\n",
            "  Train Loss: 0.0020\n",
            "  Val Loss:   0.4324\n",
            "  Val PSNR:   19.23 dB\n",
            "  Val SSIM:   0.8024\n",
            "  Learning Rate: 0.001000\n",
            "\n",
            "Epoch 34/50\n",
            "----------------------------------------------------------------------\n"
          ]
        },
        {
          "output_type": "stream",
          "name": "stderr",
          "text": []
        },
        {
          "output_type": "stream",
          "name": "stdout",
          "text": [
            "\n",
            "Results:\n",
            "  Train Loss: 0.0062\n",
            "  Val Loss:   0.0029\n",
            "  Val PSNR:   31.44 dB\n",
            "  Val SSIM:   0.8127\n",
            "  Learning Rate: 0.001000\n",
            "\n",
            "Epoch 35/50\n",
            "----------------------------------------------------------------------\n"
          ]
        },
        {
          "output_type": "stream",
          "name": "stderr",
          "text": []
        },
        {
          "output_type": "stream",
          "name": "stdout",
          "text": [
            "\n",
            "Results:\n",
            "  Train Loss: 0.0028\n",
            "  Val Loss:   0.0025\n",
            "  Val PSNR:   32.12 dB\n",
            "  Val SSIM:   0.8405\n",
            "  Learning Rate: 0.001000\n",
            "\n",
            "Epoch 36/50\n",
            "----------------------------------------------------------------------\n"
          ]
        },
        {
          "output_type": "stream",
          "name": "stderr",
          "text": []
        },
        {
          "output_type": "stream",
          "name": "stdout",
          "text": [
            "\n",
            "Results:\n",
            "  Train Loss: 0.0025\n",
            "  Val Loss:   0.0024\n",
            "  Val PSNR:   32.42 dB\n",
            "  Val SSIM:   0.8539\n",
            "  Learning Rate: 0.001000\n",
            "  ⚠ Learning rate reduced: 0.001000 → 0.000500\n",
            "\n",
            "Epoch 37/50\n",
            "----------------------------------------------------------------------\n"
          ]
        },
        {
          "output_type": "stream",
          "name": "stderr",
          "text": []
        },
        {
          "output_type": "stream",
          "name": "stdout",
          "text": [
            "\n",
            "Results:\n",
            "  Train Loss: 0.0023\n",
            "  Val Loss:   0.0023\n",
            "  Val PSNR:   32.56 dB\n",
            "  Val SSIM:   0.8559\n",
            "  Learning Rate: 0.000500\n",
            "\n",
            "Epoch 38/50\n",
            "----------------------------------------------------------------------\n"
          ]
        },
        {
          "output_type": "stream",
          "name": "stderr",
          "text": []
        },
        {
          "output_type": "stream",
          "name": "stdout",
          "text": [
            "\n",
            "Results:\n",
            "  Train Loss: 0.0023\n",
            "  Val Loss:   0.0022\n",
            "  Val PSNR:   32.64 dB\n",
            "  Val SSIM:   0.8608\n",
            "  Learning Rate: 0.000500\n",
            "\n",
            "Epoch 39/50\n",
            "----------------------------------------------------------------------\n"
          ]
        },
        {
          "output_type": "stream",
          "name": "stderr",
          "text": []
        },
        {
          "output_type": "stream",
          "name": "stdout",
          "text": [
            "\n",
            "Results:\n",
            "  Train Loss: 0.0022\n",
            "  Val Loss:   0.0022\n",
            "  Val PSNR:   32.73 dB\n",
            "  Val SSIM:   0.8651\n",
            "  Learning Rate: 0.000500\n",
            "\n",
            "Epoch 40/50\n",
            "----------------------------------------------------------------------\n"
          ]
        },
        {
          "output_type": "stream",
          "name": "stderr",
          "text": []
        },
        {
          "output_type": "stream",
          "name": "stdout",
          "text": [
            "\n",
            "Results:\n",
            "  Train Loss: 0.0022\n",
            "  Val Loss:   0.0022\n",
            "  Val PSNR:   32.77 dB\n",
            "  Val SSIM:   0.8643\n",
            "  Learning Rate: 0.000500\n",
            "  Checkpoint saved: dncnn_epoch_40.pth\n",
            "\n",
            "Epoch 41/50\n",
            "----------------------------------------------------------------------\n"
          ]
        },
        {
          "output_type": "stream",
          "name": "stderr",
          "text": []
        },
        {
          "output_type": "stream",
          "name": "stdout",
          "text": [
            "\n",
            "Results:\n",
            "  Train Loss: 0.0022\n",
            "  Val Loss:   0.0021\n",
            "  Val PSNR:   32.83 dB\n",
            "  Val SSIM:   0.8687\n",
            "  Learning Rate: 0.000500\n",
            "\n",
            "Epoch 42/50\n",
            "----------------------------------------------------------------------\n"
          ]
        },
        {
          "output_type": "stream",
          "name": "stderr",
          "text": []
        },
        {
          "output_type": "stream",
          "name": "stdout",
          "text": [
            "\n",
            "Results:\n",
            "  Train Loss: 0.0021\n",
            "  Val Loss:   0.0021\n",
            "  Val PSNR:   32.83 dB\n",
            "  Val SSIM:   0.8589\n",
            "  Learning Rate: 0.000500\n",
            "  ⚠ Learning rate reduced: 0.000500 → 0.000250\n",
            "\n",
            "Epoch 43/50\n",
            "----------------------------------------------------------------------\n"
          ]
        },
        {
          "output_type": "stream",
          "name": "stderr",
          "text": []
        },
        {
          "output_type": "stream",
          "name": "stdout",
          "text": [
            "\n",
            "Results:\n",
            "  Train Loss: 0.0021\n",
            "  Val Loss:   0.0021\n",
            "  Val PSNR:   32.94 dB\n",
            "  Val SSIM:   0.8670\n",
            "  Learning Rate: 0.000250\n",
            "\n",
            "Epoch 44/50\n",
            "----------------------------------------------------------------------\n"
          ]
        },
        {
          "output_type": "stream",
          "name": "stderr",
          "text": []
        },
        {
          "output_type": "stream",
          "name": "stdout",
          "text": [
            "\n",
            "Results:\n",
            "  Train Loss: 0.0021\n",
            "  Val Loss:   0.0021\n",
            "  Val PSNR:   32.97 dB\n",
            "  Val SSIM:   0.8720\n",
            "  Learning Rate: 0.000250\n",
            "\n",
            "Epoch 45/50\n",
            "----------------------------------------------------------------------\n"
          ]
        },
        {
          "output_type": "stream",
          "name": "stderr",
          "text": []
        },
        {
          "output_type": "stream",
          "name": "stdout",
          "text": [
            "\n",
            "Results:\n",
            "  Train Loss: 0.0021\n",
            "  Val Loss:   0.0021\n",
            "  Val PSNR:   32.97 dB\n",
            "  Val SSIM:   0.8650\n",
            "  Learning Rate: 0.000250\n",
            "\n",
            "Epoch 46/50\n",
            "----------------------------------------------------------------------\n"
          ]
        },
        {
          "output_type": "stream",
          "name": "stderr",
          "text": []
        },
        {
          "output_type": "stream",
          "name": "stdout",
          "text": [
            "\n",
            "Results:\n",
            "  Train Loss: 0.0021\n",
            "  Val Loss:   0.0021\n",
            "  Val PSNR:   33.03 dB\n",
            "  Val SSIM:   0.8740\n",
            "  Learning Rate: 0.000250\n",
            "\n",
            "Epoch 47/50\n",
            "----------------------------------------------------------------------\n"
          ]
        },
        {
          "output_type": "stream",
          "name": "stderr",
          "text": []
        },
        {
          "output_type": "stream",
          "name": "stdout",
          "text": [
            "\n",
            "Results:\n",
            "  Train Loss: 0.0021\n",
            "  Val Loss:   0.0020\n",
            "  Val PSNR:   33.06 dB\n",
            "  Val SSIM:   0.8752\n",
            "  Learning Rate: 0.000250\n",
            "\n",
            "Epoch 48/50\n",
            "----------------------------------------------------------------------\n"
          ]
        },
        {
          "output_type": "stream",
          "name": "stderr",
          "text": []
        },
        {
          "output_type": "stream",
          "name": "stdout",
          "text": [
            "\n",
            "Results:\n",
            "  Train Loss: 0.0021\n",
            "  Val Loss:   0.0021\n",
            "  Val PSNR:   33.00 dB\n",
            "  Val SSIM:   0.8724\n",
            "  Learning Rate: 0.000250\n",
            "  ⚠ Learning rate reduced: 0.000250 → 0.000125\n",
            "\n",
            "Epoch 49/50\n",
            "----------------------------------------------------------------------\n"
          ]
        },
        {
          "output_type": "stream",
          "name": "stderr",
          "text": []
        },
        {
          "output_type": "stream",
          "name": "stdout",
          "text": [
            "\n",
            "Results:\n",
            "  Train Loss: 0.0020\n",
            "  Val Loss:   0.0020\n",
            "  Val PSNR:   33.10 dB\n",
            "  Val SSIM:   0.8762\n",
            "  Learning Rate: 0.000125\n",
            "\n",
            "Epoch 50/50\n",
            "----------------------------------------------------------------------\n"
          ]
        },
        {
          "output_type": "stream",
          "name": "stderr",
          "text": []
        },
        {
          "output_type": "stream",
          "name": "stdout",
          "text": [
            "\n",
            "Results:\n",
            "  Train Loss: 0.0020\n",
            "  Val Loss:   0.0020\n",
            "  Val PSNR:   33.10 dB\n",
            "  Val SSIM:   0.8745\n",
            "  Learning Rate: 0.000125\n",
            "  Checkpoint saved: dncnn_epoch_50.pth\n",
            "\n",
            "======================================================================\n",
            "TRAINING COMPLETE!\n",
            "======================================================================\n",
            "Best PSNR: 33.53 dB (Epoch 30)\n",
            "Best SSIM: 0.8839\n",
            "======================================================================\n",
            "\n",
            "✓ Training curves saved to /content/drive/MyDrive/xray_denoising_dataset/dncnn_training_curves.png\n"
          ]
        },
        {
          "output_type": "error",
          "ename": "UnpicklingError",
          "evalue": "Weights only load failed. This file can still be loaded, to do so you have two options, \u001b[1mdo those steps only if you trust the source of the checkpoint\u001b[0m. \n\t(1) In PyTorch 2.6, we changed the default value of the `weights_only` argument in `torch.load` from `False` to `True`. Re-running `torch.load` with `weights_only` set to `False` will likely succeed, but it can result in arbitrary code execution. Do it only if you got the file from a trusted source.\n\t(2) Alternatively, to load with `weights_only=True` please check the recommended steps in the following error message.\n\tWeightsUnpickler error: Unsupported global: GLOBAL numpy._core.multiarray.scalar was not an allowed global by default. Please use `torch.serialization.add_safe_globals([numpy._core.multiarray.scalar])` or the `torch.serialization.safe_globals([numpy._core.multiarray.scalar])` context manager to allowlist this global if you trust this class/function.\n\nCheck the documentation of torch.load to learn more about types accepted by default with weights_only https://pytorch.org/docs/stable/generated/torch.load.html.",
          "traceback": [
            "\u001b[0;31m---------------------------------------------------------------------------\u001b[0m",
            "\u001b[0;31mUnpicklingError\u001b[0m                           Traceback (most recent call last)",
            "\u001b[0;32m/tmp/ipython-input-2910015578.py\u001b[0m in \u001b[0;36m<cell line: 0>\u001b[0;34m()\u001b[0m\n\u001b[1;32m     21\u001b[0m \u001b[0;34m\u001b[0m\u001b[0m\n\u001b[1;32m     22\u001b[0m \u001b[0;31m# Start training\u001b[0m\u001b[0;34m\u001b[0m\u001b[0;34m\u001b[0m\u001b[0m\n\u001b[0;32m---> 23\u001b[0;31m model, history = train_dncnn(\n\u001b[0m\u001b[1;32m     24\u001b[0m     \u001b[0mtrain_loader\u001b[0m\u001b[0;34m=\u001b[0m\u001b[0mtrain_loader\u001b[0m\u001b[0;34m,\u001b[0m\u001b[0;34m\u001b[0m\u001b[0;34m\u001b[0m\u001b[0m\n\u001b[1;32m     25\u001b[0m     \u001b[0mval_loader\u001b[0m\u001b[0;34m=\u001b[0m\u001b[0mval_loader\u001b[0m\u001b[0;34m,\u001b[0m\u001b[0;34m\u001b[0m\u001b[0;34m\u001b[0m\u001b[0m\n",
            "\u001b[0;32m/tmp/ipython-input-1110819405.py\u001b[0m in \u001b[0;36mtrain_dncnn\u001b[0;34m(train_loader, val_loader, output_dir, num_epochs, learning_rate)\u001b[0m\n\u001b[1;32m    131\u001b[0m \u001b[0;34m\u001b[0m\u001b[0m\n\u001b[1;32m    132\u001b[0m     \u001b[0;31m# Load best model for inference\u001b[0m\u001b[0;34m\u001b[0m\u001b[0;34m\u001b[0m\u001b[0m\n\u001b[0;32m--> 133\u001b[0;31m     \u001b[0mcheckpoint\u001b[0m \u001b[0;34m=\u001b[0m \u001b[0mtorch\u001b[0m\u001b[0;34m.\u001b[0m\u001b[0mload\u001b[0m\u001b[0;34m(\u001b[0m\u001b[0mos\u001b[0m\u001b[0;34m.\u001b[0m\u001b[0mpath\u001b[0m\u001b[0;34m.\u001b[0m\u001b[0mjoin\u001b[0m\u001b[0;34m(\u001b[0m\u001b[0moutput_dir\u001b[0m\u001b[0;34m,\u001b[0m \u001b[0;34m'dncnn_best.pth'\u001b[0m\u001b[0;34m)\u001b[0m\u001b[0;34m)\u001b[0m\u001b[0;34m\u001b[0m\u001b[0;34m\u001b[0m\u001b[0m\n\u001b[0m\u001b[1;32m    134\u001b[0m     \u001b[0mmodel\u001b[0m\u001b[0;34m.\u001b[0m\u001b[0mload_state_dict\u001b[0m\u001b[0;34m(\u001b[0m\u001b[0mcheckpoint\u001b[0m\u001b[0;34m[\u001b[0m\u001b[0;34m'model_state_dict'\u001b[0m\u001b[0;34m]\u001b[0m\u001b[0;34m)\u001b[0m\u001b[0;34m\u001b[0m\u001b[0;34m\u001b[0m\u001b[0m\n\u001b[1;32m    135\u001b[0m \u001b[0;34m\u001b[0m\u001b[0m\n",
            "\u001b[0;32m/usr/local/lib/python3.12/dist-packages/torch/serialization.py\u001b[0m in \u001b[0;36mload\u001b[0;34m(f, map_location, pickle_module, weights_only, mmap, **pickle_load_args)\u001b[0m\n\u001b[1;32m   1527\u001b[0m                         )\n\u001b[1;32m   1528\u001b[0m                     \u001b[0;32mexcept\u001b[0m \u001b[0mpickle\u001b[0m\u001b[0;34m.\u001b[0m\u001b[0mUnpicklingError\u001b[0m \u001b[0;32mas\u001b[0m \u001b[0me\u001b[0m\u001b[0;34m:\u001b[0m\u001b[0;34m\u001b[0m\u001b[0;34m\u001b[0m\u001b[0m\n\u001b[0;32m-> 1529\u001b[0;31m                         \u001b[0;32mraise\u001b[0m \u001b[0mpickle\u001b[0m\u001b[0;34m.\u001b[0m\u001b[0mUnpicklingError\u001b[0m\u001b[0;34m(\u001b[0m\u001b[0m_get_wo_message\u001b[0m\u001b[0;34m(\u001b[0m\u001b[0mstr\u001b[0m\u001b[0;34m(\u001b[0m\u001b[0me\u001b[0m\u001b[0;34m)\u001b[0m\u001b[0;34m)\u001b[0m\u001b[0;34m)\u001b[0m \u001b[0;32mfrom\u001b[0m \u001b[0;32mNone\u001b[0m\u001b[0;34m\u001b[0m\u001b[0;34m\u001b[0m\u001b[0m\n\u001b[0m\u001b[1;32m   1530\u001b[0m                 return _load(\n\u001b[1;32m   1531\u001b[0m                     \u001b[0mopened_zipfile\u001b[0m\u001b[0;34m,\u001b[0m\u001b[0;34m\u001b[0m\u001b[0;34m\u001b[0m\u001b[0m\n",
            "\u001b[0;31mUnpicklingError\u001b[0m: Weights only load failed. This file can still be loaded, to do so you have two options, \u001b[1mdo those steps only if you trust the source of the checkpoint\u001b[0m. \n\t(1) In PyTorch 2.6, we changed the default value of the `weights_only` argument in `torch.load` from `False` to `True`. Re-running `torch.load` with `weights_only` set to `False` will likely succeed, but it can result in arbitrary code execution. Do it only if you got the file from a trusted source.\n\t(2) Alternatively, to load with `weights_only=True` please check the recommended steps in the following error message.\n\tWeightsUnpickler error: Unsupported global: GLOBAL numpy._core.multiarray.scalar was not an allowed global by default. Please use `torch.serialization.add_safe_globals([numpy._core.multiarray.scalar])` or the `torch.serialization.safe_globals([numpy._core.multiarray.scalar])` context manager to allowlist this global if you trust this class/function.\n\nCheck the documentation of torch.load to learn more about types accepted by default with weights_only https://pytorch.org/docs/stable/generated/torch.load.html."
          ]
        }
      ]
    },
    {
      "cell_type": "code",
      "source": [
        "# Load checkpoint with the fix\n",
        "checkpoint = torch.load(os.path.join(output_dir, 'dncnn_best.pth'),\n",
        "                       weights_only=False)  # ← This fixes it\n",
        "\n",
        "# Load model\n",
        "trained_model = DnCNN(channels=1, num_layers=17, num_features=64).to(device)\n",
        "trained_model.load_state_dict(checkpoint['model_state_dict'])\n",
        "\n",
        "# Now run the visualization\n",
        "save_comparison_images(trained_model, val_loader, device, output_dir, num_samples=8)\n",
        "\n",
        "print(\"✓ Model loaded and visualizations saved!\")\n",
        "print(f\"\\nYour trained model achieved:\")\n",
        "print(f\"  • Best PSNR: {checkpoint['val_psnr']:.2f} dB\")\n",
        "print(f\"  • Best SSIM: {checkpoint['val_ssim']:.4f}\")"
      ],
      "metadata": {
        "id": "b6aI3kvepQXx",
        "outputId": "a3c8fcda-9408-4a38-a9cd-b5664dc4017e",
        "colab": {
          "base_uri": "https://localhost:8080/"
        }
      },
      "execution_count": 10,
      "outputs": [
        {
          "output_type": "stream",
          "name": "stdout",
          "text": [
            "✓ Saved 8 comparison images to /content/drive/MyDrive/xray_denoising_dataset/dncnn_results\n",
            "✓ Model loaded and visualizations saved!\n",
            "\n",
            "Your trained model achieved:\n",
            "  • Best PSNR: 33.53 dB\n",
            "  • Best SSIM: 0.8839\n"
          ]
        }
      ]
    }
  ],
  "metadata": {
    "colab": {
      "name": "Welcome To Colab",
      "provenance": [],
      "gpuType": "T4",
      "include_colab_link": true
    },
    "kernelspec": {
      "display_name": "Python 3",
      "name": "python3"
    },
    "accelerator": "GPU"
  },
  "nbformat": 4,
  "nbformat_minor": 0
}